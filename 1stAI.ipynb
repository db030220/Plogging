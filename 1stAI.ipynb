{
  "nbformat": 4,
  "nbformat_minor": 0,
  "metadata": {
    "colab": {
      "provenance": [],
      "authorship_tag": "ABX9TyPbOpVatD8RQNwxIMyH4Gju",
      "include_colab_link": true
    },
    "kernelspec": {
      "name": "python3",
      "display_name": "Python 3"
    },
    "language_info": {
      "name": "python"
    }
  },
  "cells": [
    {
      "cell_type": "markdown",
      "metadata": {
        "id": "view-in-github",
        "colab_type": "text"
      },
      "source": [
        "<a href=\"https://colab.research.google.com/github/db030220/Plogging/blob/main/1stAI.ipynb\" target=\"_parent\"><img src=\"https://colab.research.google.com/assets/colab-badge.svg\" alt=\"Open In Colab\"/></a>"
      ]
    },
    {
      "cell_type": "code",
      "execution_count": 1,
      "metadata": {
        "colab": {
          "base_uri": "https://localhost:8080/",
          "height": 1000
        },
        "id": "rBGX8r-cTP1L",
        "outputId": "197aa0be-082c-45fd-a89e-b4f49a2be882"
      },
      "outputs": [
        {
          "output_type": "stream",
          "name": "stdout",
          "text": [
            "Mounted at /content/drive\n",
            "person  파일길이 :  1004\n",
            "person  :  /content/drive/MyDrive/2023finalproject/img3//person/사람5.jpg\n",
            "person  :  /content/drive/MyDrive/2023finalproject/img3//person/puls_2_0_3767.jpg\n",
            "hand  파일길이 :  2028\n",
            "hand  :  /content/drive/MyDrive/2023finalproject/img3//hand/puls_2_0_1831.jpg\n",
            "hand  :  /content/drive/MyDrive/2023finalproject/img3//hand/puls_2_0_6910.jpg\n",
            "hand  :  /content/drive/MyDrive/2023finalproject/img3//hand/puls_2_0_18.jpg\n",
            "trash  파일길이 :  1003\n",
            "trash  :  /content/drive/MyDrive/2023finalproject/img3//trash/쓰레기봉투만5.jpg\n",
            "trash  :  /content/drive/MyDrive/2023finalproject/img3//trash/쓰레기봉투만603.jpg\n"
          ]
        },
        {
          "output_type": "stream",
          "name": "stderr",
          "text": [
            "/usr/local/lib/python3.10/dist-packages/numpy/lib/npyio.py:518: VisibleDeprecationWarning: Creating an ndarray from ragged nested sequences (which is a list-or-tuple of lists-or-tuples-or ndarrays with different lengths or shapes) is deprecated. If you meant to do this, you must specify 'dtype=object' when creating the ndarray.\n",
            "  arr = np.asanyarray(arr)\n"
          ]
        },
        {
          "output_type": "stream",
          "name": "stdout",
          "text": [
            "ok 4035\n",
            "(3026, 64, 64, 3)\n",
            "3026\n",
            "(1009, 64, 64, 3)\n",
            "1009\n",
            "Model: \"sequential_1\"\n",
            "_________________________________________________________________\n",
            " Layer (type)                Output Shape              Param #   \n",
            "=================================================================\n",
            " conv2d_1 (Conv2D)           (None, 64, 64, 32)        896       \n",
            "                                                                 \n",
            " max_pooling2d_1 (MaxPooling  (None, 32, 32, 32)       0         \n",
            " 2D)                                                             \n",
            "                                                                 \n",
            " dropout_1 (Dropout)         (None, 32, 32, 32)        0         \n",
            "                                                                 \n",
            " conv2d_2 (Conv2D)           (None, 32, 32, 64)        18496     \n",
            "                                                                 \n",
            " max_pooling2d_2 (MaxPooling  (None, 16, 16, 64)       0         \n",
            " 2D)                                                             \n",
            "                                                                 \n",
            " dropout_2 (Dropout)         (None, 16, 16, 64)        0         \n",
            "                                                                 \n",
            " conv2d_3 (Conv2D)           (None, 16, 16, 64)        36928     \n",
            "                                                                 \n",
            " max_pooling2d_3 (MaxPooling  (None, 8, 8, 64)         0         \n",
            " 2D)                                                             \n",
            "                                                                 \n",
            " dropout_3 (Dropout)         (None, 8, 8, 64)          0         \n",
            "                                                                 \n",
            " flatten (Flatten)           (None, 4096)              0         \n",
            "                                                                 \n",
            " dense (Dense)               (None, 128)               524416    \n",
            "                                                                 \n",
            " dropout_4 (Dropout)         (None, 128)               0         \n",
            "                                                                 \n",
            " dense_1 (Dense)             (None, 3)                 387       \n",
            "                                                                 \n",
            "=================================================================\n",
            "Total params: 581,123\n",
            "Trainable params: 581,123\n",
            "Non-trainable params: 0\n",
            "_________________________________________________________________\n",
            "Epoch 1/25\n",
            "95/95 [==============================] - ETA: 0s - loss: 1.0489 - accuracy: 0.4934\n",
            "Epoch 1: val_loss improved from inf to 0.97153, saving model to ./model/multi_img_classification.model\n"
          ]
        },
        {
          "output_type": "stream",
          "name": "stderr",
          "text": [
            "WARNING:absl:Found untraced functions such as _jit_compiled_convolution_op, _jit_compiled_convolution_op, _jit_compiled_convolution_op, _update_step_xla while saving (showing 4 of 4). These functions will not be directly callable after loading.\n"
          ]
        },
        {
          "output_type": "stream",
          "name": "stdout",
          "text": [
            "\b\b\b\b\b\b\b\b\b\b\b\b\b\b\b\b\b\b\b\b\b\b\b\b\b\b\b\b\b\b\b\b\b\b\b\b\b\b\b\b\b\b\b\b\b\b\b\b\b\b\b\b\b\b\b\b\b\b\b\b\b\b\b\b\b\b\b\b\b\b\b\b\b\b\b\b\b\b\b\b\b\b\r95/95 [==============================] - 37s 373ms/step - loss: 1.0489 - accuracy: 0.4934 - val_loss: 0.9715 - val_accuracy: 0.4985\n",
            "Epoch 2/25\n",
            "95/95 [==============================] - ETA: 0s - loss: 0.8912 - accuracy: 0.5796\n",
            "Epoch 2: val_loss improved from 0.97153 to 0.83698, saving model to ./model/multi_img_classification.model\n"
          ]
        },
        {
          "output_type": "stream",
          "name": "stderr",
          "text": [
            "WARNING:absl:Found untraced functions such as _jit_compiled_convolution_op, _jit_compiled_convolution_op, _jit_compiled_convolution_op, _update_step_xla while saving (showing 4 of 4). These functions will not be directly callable after loading.\n"
          ]
        },
        {
          "output_type": "stream",
          "name": "stdout",
          "text": [
            "\b\b\b\b\b\b\b\b\b\b\b\b\b\b\b\b\b\b\b\b\b\b\b\b\b\b\b\b\b\b\b\b\b\b\b\b\b\b\b\b\b\b\b\b\b\b\b\b\b\b\b\b\b\b\b\b\b\b\b\b\b\b\b\b\b\b\b\b\b\b\b\b\b\b\b\b\b\b\b\b\b\b\r95/95 [==============================] - 38s 399ms/step - loss: 0.8912 - accuracy: 0.5796 - val_loss: 0.8370 - val_accuracy: 0.6333\n",
            "Epoch 3/25\n",
            "95/95 [==============================] - ETA: 0s - loss: 0.8292 - accuracy: 0.6190\n",
            "Epoch 3: val_loss improved from 0.83698 to 0.81466, saving model to ./model/multi_img_classification.model\n"
          ]
        },
        {
          "output_type": "stream",
          "name": "stderr",
          "text": [
            "WARNING:absl:Found untraced functions such as _jit_compiled_convolution_op, _jit_compiled_convolution_op, _jit_compiled_convolution_op, _update_step_xla while saving (showing 4 of 4). These functions will not be directly callable after loading.\n"
          ]
        },
        {
          "output_type": "stream",
          "name": "stdout",
          "text": [
            "\b\b\b\b\b\b\b\b\b\b\b\b\b\b\b\b\b\b\b\b\b\b\b\b\b\b\b\b\b\b\b\b\b\b\b\b\b\b\b\b\b\b\b\b\b\b\b\b\b\b\b\b\b\b\b\b\b\b\b\b\b\b\b\b\b\b\b\b\b\b\b\b\b\b\b\b\b\b\b\b\b\b\r95/95 [==============================] - 34s 361ms/step - loss: 0.8292 - accuracy: 0.6190 - val_loss: 0.8147 - val_accuracy: 0.6511\n",
            "Epoch 4/25\n",
            "95/95 [==============================] - ETA: 0s - loss: 0.7696 - accuracy: 0.6596\n",
            "Epoch 4: val_loss improved from 0.81466 to 0.74900, saving model to ./model/multi_img_classification.model\n"
          ]
        },
        {
          "output_type": "stream",
          "name": "stderr",
          "text": [
            "WARNING:absl:Found untraced functions such as _jit_compiled_convolution_op, _jit_compiled_convolution_op, _jit_compiled_convolution_op, _update_step_xla while saving (showing 4 of 4). These functions will not be directly callable after loading.\n"
          ]
        },
        {
          "output_type": "stream",
          "name": "stdout",
          "text": [
            "\b\b\b\b\b\b\b\b\b\b\b\b\b\b\b\b\b\b\b\b\b\b\b\b\b\b\b\b\b\b\b\b\b\b\b\b\b\b\b\b\b\b\b\b\b\b\b\b\b\b\b\b\b\b\b\b\b\b\b\b\b\b\b\b\b\b\b\b\b\b\b\b\b\b\b\b\b\b\b\b\b\b\r95/95 [==============================] - 34s 355ms/step - loss: 0.7696 - accuracy: 0.6596 - val_loss: 0.7490 - val_accuracy: 0.6858\n",
            "Epoch 5/25\n",
            "95/95 [==============================] - ETA: 0s - loss: 0.7361 - accuracy: 0.6778\n",
            "Epoch 5: val_loss improved from 0.74900 to 0.70388, saving model to ./model/multi_img_classification.model\n"
          ]
        },
        {
          "output_type": "stream",
          "name": "stderr",
          "text": [
            "WARNING:absl:Found untraced functions such as _jit_compiled_convolution_op, _jit_compiled_convolution_op, _jit_compiled_convolution_op, _update_step_xla while saving (showing 4 of 4). These functions will not be directly callable after loading.\n"
          ]
        },
        {
          "output_type": "stream",
          "name": "stdout",
          "text": [
            "\b\b\b\b\b\b\b\b\b\b\b\b\b\b\b\b\b\b\b\b\b\b\b\b\b\b\b\b\b\b\b\b\b\b\b\b\b\b\b\b\b\b\b\b\b\b\b\b\b\b\b\b\b\b\b\b\b\b\b\b\b\b\b\b\b\b\b\b\b\b\b\b\b\b\b\b\b\b\b\b\b\b\r95/95 [==============================] - 33s 353ms/step - loss: 0.7361 - accuracy: 0.6778 - val_loss: 0.7039 - val_accuracy: 0.7175\n",
            "Epoch 6/25\n",
            "95/95 [==============================] - ETA: 0s - loss: 0.7045 - accuracy: 0.6970\n",
            "Epoch 6: val_loss did not improve from 0.70388\n",
            "95/95 [==============================] - 33s 350ms/step - loss: 0.7045 - accuracy: 0.6970 - val_loss: 0.7342 - val_accuracy: 0.6759\n",
            "Epoch 7/25\n",
            "95/95 [==============================] - ETA: 0s - loss: 0.6640 - accuracy: 0.7171\n",
            "Epoch 7: val_loss improved from 0.70388 to 0.61570, saving model to ./model/multi_img_classification.model\n"
          ]
        },
        {
          "output_type": "stream",
          "name": "stderr",
          "text": [
            "WARNING:absl:Found untraced functions such as _jit_compiled_convolution_op, _jit_compiled_convolution_op, _jit_compiled_convolution_op, _update_step_xla while saving (showing 4 of 4). These functions will not be directly callable after loading.\n"
          ]
        },
        {
          "output_type": "stream",
          "name": "stdout",
          "text": [
            "\b\b\b\b\b\b\b\b\b\b\b\b\b\b\b\b\b\b\b\b\b\b\b\b\b\b\b\b\b\b\b\b\b\b\b\b\b\b\b\b\b\b\b\b\b\b\b\b\b\b\b\b\b\b\b\b\b\b\b\b\b\b\b\b\b\b\b\b\b\b\b\b\b\b\b\b\b\b\b\b\b\b\r95/95 [==============================] - 35s 368ms/step - loss: 0.6640 - accuracy: 0.7171 - val_loss: 0.6157 - val_accuracy: 0.7324\n",
            "Epoch 8/25\n",
            "95/95 [==============================] - ETA: 0s - loss: 0.6305 - accuracy: 0.7350\n",
            "Epoch 8: val_loss improved from 0.61570 to 0.59677, saving model to ./model/multi_img_classification.model\n"
          ]
        },
        {
          "output_type": "stream",
          "name": "stderr",
          "text": [
            "WARNING:absl:Found untraced functions such as _jit_compiled_convolution_op, _jit_compiled_convolution_op, _jit_compiled_convolution_op, _update_step_xla while saving (showing 4 of 4). These functions will not be directly callable after loading.\n"
          ]
        },
        {
          "output_type": "stream",
          "name": "stdout",
          "text": [
            "\b\b\b\b\b\b\b\b\b\b\b\b\b\b\b\b\b\b\b\b\b\b\b\b\b\b\b\b\b\b\b\b\b\b\b\b\b\b\b\b\b\b\b\b\b\b\b\b\b\b\b\b\b\b\b\b\b\b\b\b\b\b\b\b\b\b\b\b\b\b\b\b\b\b\b\b\b\b\b\b\b\b\r95/95 [==============================] - 34s 355ms/step - loss: 0.6305 - accuracy: 0.7350 - val_loss: 0.5968 - val_accuracy: 0.7532\n",
            "Epoch 9/25\n",
            "95/95 [==============================] - ETA: 0s - loss: 0.6120 - accuracy: 0.7475\n",
            "Epoch 9: val_loss improved from 0.59677 to 0.58202, saving model to ./model/multi_img_classification.model\n"
          ]
        },
        {
          "output_type": "stream",
          "name": "stderr",
          "text": [
            "WARNING:absl:Found untraced functions such as _jit_compiled_convolution_op, _jit_compiled_convolution_op, _jit_compiled_convolution_op, _update_step_xla while saving (showing 4 of 4). These functions will not be directly callable after loading.\n"
          ]
        },
        {
          "output_type": "stream",
          "name": "stdout",
          "text": [
            "\b\b\b\b\b\b\b\b\b\b\b\b\b\b\b\b\b\b\b\b\b\b\b\b\b\b\b\b\b\b\b\b\b\b\b\b\b\b\b\b\b\b\b\b\b\b\b\b\b\b\b\b\b\b\b\b\b\b\b\b\b\b\b\b\b\b\b\b\b\b\b\b\b\b\b\b\b\b\b\b\b\b\r95/95 [==============================] - 34s 352ms/step - loss: 0.6120 - accuracy: 0.7475 - val_loss: 0.5820 - val_accuracy: 0.7522\n",
            "Epoch 10/25\n",
            "95/95 [==============================] - ETA: 0s - loss: 0.5734 - accuracy: 0.7561\n",
            "Epoch 10: val_loss did not improve from 0.58202\n",
            "95/95 [==============================] - 32s 333ms/step - loss: 0.5734 - accuracy: 0.7561 - val_loss: 0.5937 - val_accuracy: 0.7443\n",
            "Epoch 11/25\n",
            "95/95 [==============================] - ETA: 0s - loss: 0.5484 - accuracy: 0.7710\n",
            "Epoch 11: val_loss improved from 0.58202 to 0.54134, saving model to ./model/multi_img_classification.model\n"
          ]
        },
        {
          "output_type": "stream",
          "name": "stderr",
          "text": [
            "WARNING:absl:Found untraced functions such as _jit_compiled_convolution_op, _jit_compiled_convolution_op, _jit_compiled_convolution_op, _update_step_xla while saving (showing 4 of 4). These functions will not be directly callable after loading.\n"
          ]
        },
        {
          "output_type": "stream",
          "name": "stdout",
          "text": [
            "\b\b\b\b\b\b\b\b\b\b\b\b\b\b\b\b\b\b\b\b\b\b\b\b\b\b\b\b\b\b\b\b\b\b\b\b\b\b\b\b\b\b\b\b\b\b\b\b\b\b\b\b\b\b\b\b\b\b\b\b\b\b\b\b\b\b\b\b\b\b\b\b\b\b\b\b\b\b\b\b\b\b\r95/95 [==============================] - 33s 350ms/step - loss: 0.5484 - accuracy: 0.7710 - val_loss: 0.5413 - val_accuracy: 0.7780\n",
            "Epoch 12/25\n",
            "95/95 [==============================] - ETA: 0s - loss: 0.5400 - accuracy: 0.7809\n",
            "Epoch 12: val_loss did not improve from 0.54134\n",
            "95/95 [==============================] - 30s 320ms/step - loss: 0.5400 - accuracy: 0.7809 - val_loss: 0.5624 - val_accuracy: 0.7661\n",
            "Epoch 13/25\n",
            "95/95 [==============================] - ETA: 0s - loss: 0.5101 - accuracy: 0.7882\n",
            "Epoch 13: val_loss improved from 0.54134 to 0.52044, saving model to ./model/multi_img_classification.model\n"
          ]
        },
        {
          "output_type": "stream",
          "name": "stderr",
          "text": [
            "WARNING:absl:Found untraced functions such as _jit_compiled_convolution_op, _jit_compiled_convolution_op, _jit_compiled_convolution_op, _update_step_xla while saving (showing 4 of 4). These functions will not be directly callable after loading.\n"
          ]
        },
        {
          "output_type": "stream",
          "name": "stdout",
          "text": [
            "\b\b\b\b\b\b\b\b\b\b\b\b\b\b\b\b\b\b\b\b\b\b\b\b\b\b\b\b\b\b\b\b\b\b\b\b\b\b\b\b\b\b\b\b\b\b\b\b\b\b\b\b\b\b\b\b\b\b\b\b\b\b\b\b\b\b\b\b\b\b\b\b\b\b\b\b\b\b\b\b\b\b\r95/95 [==============================] - 36s 380ms/step - loss: 0.5101 - accuracy: 0.7882 - val_loss: 0.5204 - val_accuracy: 0.7849\n",
            "Epoch 14/25\n",
            "95/95 [==============================] - ETA: 0s - loss: 0.4934 - accuracy: 0.7964\n",
            "Epoch 14: val_loss improved from 0.52044 to 0.50524, saving model to ./model/multi_img_classification.model\n"
          ]
        },
        {
          "output_type": "stream",
          "name": "stderr",
          "text": [
            "WARNING:absl:Found untraced functions such as _jit_compiled_convolution_op, _jit_compiled_convolution_op, _jit_compiled_convolution_op, _update_step_xla while saving (showing 4 of 4). These functions will not be directly callable after loading.\n"
          ]
        },
        {
          "output_type": "stream",
          "name": "stdout",
          "text": [
            "\b\b\b\b\b\b\b\b\b\b\b\b\b\b\b\b\b\b\b\b\b\b\b\b\b\b\b\b\b\b\b\b\b\b\b\b\b\b\b\b\b\b\b\b\b\b\b\b\b\b\b\b\b\b\b\b\b\b\b\b\b\b\b\b\b\b\b\b\b\b\b\b\b\b\b\b\b\b\b\b\b\b\r95/95 [==============================] - 33s 348ms/step - loss: 0.4934 - accuracy: 0.7964 - val_loss: 0.5052 - val_accuracy: 0.7879\n",
            "Epoch 15/25\n",
            "95/95 [==============================] - ETA: 0s - loss: 0.4590 - accuracy: 0.8143\n",
            "Epoch 15: val_loss improved from 0.50524 to 0.48710, saving model to ./model/multi_img_classification.model\n"
          ]
        },
        {
          "output_type": "stream",
          "name": "stderr",
          "text": [
            "WARNING:absl:Found untraced functions such as _jit_compiled_convolution_op, _jit_compiled_convolution_op, _jit_compiled_convolution_op, _update_step_xla while saving (showing 4 of 4). These functions will not be directly callable after loading.\n"
          ]
        },
        {
          "output_type": "stream",
          "name": "stdout",
          "text": [
            "\b\b\b\b\b\b\b\b\b\b\b\b\b\b\b\b\b\b\b\b\b\b\b\b\b\b\b\b\b\b\b\b\b\b\b\b\b\b\b\b\b\b\b\b\b\b\b\b\b\b\b\b\b\b\b\b\b\b\b\b\b\b\b\b\b\b\b\b\b\b\b\b\b\b\b\b\b\b\b\b\b\b\r95/95 [==============================] - 32s 341ms/step - loss: 0.4590 - accuracy: 0.8143 - val_loss: 0.4871 - val_accuracy: 0.7988\n",
            "Epoch 16/25\n",
            "95/95 [==============================] - ETA: 0s - loss: 0.4420 - accuracy: 0.8186\n",
            "Epoch 16: val_loss did not improve from 0.48710\n",
            "95/95 [==============================] - 31s 322ms/step - loss: 0.4420 - accuracy: 0.8186 - val_loss: 0.5072 - val_accuracy: 0.7849\n",
            "Epoch 17/25\n",
            "95/95 [==============================] - ETA: 0s - loss: 0.4305 - accuracy: 0.8212\n",
            "Epoch 17: val_loss did not improve from 0.48710\n",
            "95/95 [==============================] - 31s 327ms/step - loss: 0.4305 - accuracy: 0.8212 - val_loss: 0.4940 - val_accuracy: 0.8008\n",
            "Epoch 18/25\n",
            "95/95 [==============================] - ETA: 0s - loss: 0.4097 - accuracy: 0.8301\n",
            "Epoch 18: val_loss improved from 0.48710 to 0.47024, saving model to ./model/multi_img_classification.model\n"
          ]
        },
        {
          "output_type": "stream",
          "name": "stderr",
          "text": [
            "WARNING:absl:Found untraced functions such as _jit_compiled_convolution_op, _jit_compiled_convolution_op, _jit_compiled_convolution_op, _update_step_xla while saving (showing 4 of 4). These functions will not be directly callable after loading.\n"
          ]
        },
        {
          "output_type": "stream",
          "name": "stdout",
          "text": [
            "\b\b\b\b\b\b\b\b\b\b\b\b\b\b\b\b\b\b\b\b\b\b\b\b\b\b\b\b\b\b\b\b\b\b\b\b\b\b\b\b\b\b\b\b\b\b\b\b\b\b\b\b\b\b\b\b\b\b\b\b\b\b\b\b\b\b\b\b\b\b\b\b\b\b\b\b\b\b\b\b\b\b\r95/95 [==============================] - 34s 358ms/step - loss: 0.4097 - accuracy: 0.8301 - val_loss: 0.4702 - val_accuracy: 0.8067\n",
            "Epoch 19/25\n",
            "95/95 [==============================] - ETA: 0s - loss: 0.3848 - accuracy: 0.8443\n",
            "Epoch 19: val_loss improved from 0.47024 to 0.44931, saving model to ./model/multi_img_classification.model\n"
          ]
        },
        {
          "output_type": "stream",
          "name": "stderr",
          "text": [
            "WARNING:absl:Found untraced functions such as _jit_compiled_convolution_op, _jit_compiled_convolution_op, _jit_compiled_convolution_op, _update_step_xla while saving (showing 4 of 4). These functions will not be directly callable after loading.\n"
          ]
        },
        {
          "output_type": "stream",
          "name": "stdout",
          "text": [
            "\b\b\b\b\b\b\b\b\b\b\b\b\b\b\b\b\b\b\b\b\b\b\b\b\b\b\b\b\b\b\b\b\b\b\b\b\b\b\b\b\b\b\b\b\b\b\b\b\b\b\b\b\b\b\b\b\b\b\b\b\b\b\b\b\b\b\b\b\b\b\b\b\b\b\b\b\b\b\b\b\b\b\r95/95 [==============================] - 34s 354ms/step - loss: 0.3848 - accuracy: 0.8443 - val_loss: 0.4493 - val_accuracy: 0.8127\n",
            "Epoch 20/25\n",
            "95/95 [==============================] - ETA: 0s - loss: 0.3731 - accuracy: 0.8443\n",
            "Epoch 20: val_loss did not improve from 0.44931\n",
            "95/95 [==============================] - 32s 334ms/step - loss: 0.3731 - accuracy: 0.8443 - val_loss: 0.4568 - val_accuracy: 0.8147\n",
            "Epoch 21/25\n",
            "95/95 [==============================] - ETA: 0s - loss: 0.3495 - accuracy: 0.8589\n",
            "Epoch 21: val_loss improved from 0.44931 to 0.44834, saving model to ./model/multi_img_classification.model\n"
          ]
        },
        {
          "output_type": "stream",
          "name": "stderr",
          "text": [
            "WARNING:absl:Found untraced functions such as _jit_compiled_convolution_op, _jit_compiled_convolution_op, _jit_compiled_convolution_op, _update_step_xla while saving (showing 4 of 4). These functions will not be directly callable after loading.\n"
          ]
        },
        {
          "output_type": "stream",
          "name": "stdout",
          "text": [
            "\b\b\b\b\b\b\b\b\b\b\b\b\b\b\b\b\b\b\b\b\b\b\b\b\b\b\b\b\b\b\b\b\b\b\b\b\b\b\b\b\b\b\b\b\b\b\b\b\b\b\b\b\b\b\b\b\b\b\b\b\b\b\b\b\b\b\b\b\b\b\b\b\b\b\b\b\b\b\b\b\b\b\r95/95 [==============================] - 34s 355ms/step - loss: 0.3495 - accuracy: 0.8589 - val_loss: 0.4483 - val_accuracy: 0.8216\n",
            "Epoch 22/25\n",
            "95/95 [==============================] - ETA: 0s - loss: 0.3521 - accuracy: 0.8533\n",
            "Epoch 22: val_loss did not improve from 0.44834\n",
            "95/95 [==============================] - 34s 363ms/step - loss: 0.3521 - accuracy: 0.8533 - val_loss: 0.4499 - val_accuracy: 0.8186\n",
            "Epoch 23/25\n",
            "95/95 [==============================] - ETA: 0s - loss: 0.3237 - accuracy: 0.8688\n",
            "Epoch 23: val_loss improved from 0.44834 to 0.42688, saving model to ./model/multi_img_classification.model\n"
          ]
        },
        {
          "output_type": "stream",
          "name": "stderr",
          "text": [
            "WARNING:absl:Found untraced functions such as _jit_compiled_convolution_op, _jit_compiled_convolution_op, _jit_compiled_convolution_op, _update_step_xla while saving (showing 4 of 4). These functions will not be directly callable after loading.\n"
          ]
        },
        {
          "output_type": "stream",
          "name": "stdout",
          "text": [
            "\b\b\b\b\b\b\b\b\b\b\b\b\b\b\b\b\b\b\b\b\b\b\b\b\b\b\b\b\b\b\b\b\b\b\b\b\b\b\b\b\b\b\b\b\b\b\b\b\b\b\b\b\b\b\b\b\b\b\b\b\b\b\b\b\b\b\b\b\b\b\b\b\b\b\b\b\b\b\b\b\b\b\r95/95 [==============================] - 33s 347ms/step - loss: 0.3237 - accuracy: 0.8688 - val_loss: 0.4269 - val_accuracy: 0.8315\n",
            "Epoch 24/25\n",
            "95/95 [==============================] - ETA: 0s - loss: 0.3170 - accuracy: 0.8734\n",
            "Epoch 24: val_loss did not improve from 0.42688\n",
            "95/95 [==============================] - 32s 334ms/step - loss: 0.3170 - accuracy: 0.8734 - val_loss: 0.4639 - val_accuracy: 0.8226\n",
            "Epoch 25/25\n",
            "95/95 [==============================] - ETA: 0s - loss: 0.2874 - accuracy: 0.8843\n",
            "Epoch 25: val_loss did not improve from 0.42688\n",
            "95/95 [==============================] - 31s 325ms/step - loss: 0.2874 - accuracy: 0.8843 - val_loss: 0.4658 - val_accuracy: 0.8295\n",
            "32/32 [==============================] - 2s 67ms/step - loss: 0.4658 - accuracy: 0.8295\n",
            "정확도 : 0.8295\n"
          ]
        },
        {
          "output_type": "display_data",
          "data": {
            "text/plain": [
              "<Figure size 640x480 with 1 Axes>"
            ],
            "image/png": "[encoded data removed]"
          },
          "metadata": {}
        }
      ],
      "source": [
        "import cv2\n",
        "import numpy as np\n",
        "#1차 인공지능\n",
        "from PIL import Image\n",
        "import os, glob, numpy as np\n",
        "from sklearn.model_selection import train_test_split\n",
        "#데이터 학습 코드 불러오기\n",
        "from google.colab import drive\n",
        "drive.mount('/content/drive')\n",
        "\n",
        "caltech_dir = \"/content/drive/MyDrive/2023finalproject/img3/\"\n",
        "categories = [\"person\",\"hand\",\"trash\"]\n",
        "nb_classes = len(categories)\n",
        "\n",
        "image_w=64\n",
        "image_h=64\n",
        "pixels = image_h* image_w*3\n",
        "X=[]\n",
        "y=[]\n",
        "\n",
        "for idx, cat in enumerate(categories):\n",
        "  label=[0 for i in range(nb_classes)]\n",
        "  label[idx] =1\n",
        "  image_dir=caltech_dir +\"/\"+cat\n",
        "  files=glob.glob(image_dir+\"/*.jpg\")\n",
        "  print(cat, \" 파일길이 : \", len(files))\n",
        "  for i, f in enumerate(files):\n",
        "    img=Image.open(f)\n",
        "    img=img.convert(\"RGB\")\n",
        "    img=img.resize((image_w,image_h))\n",
        "    data=np.asarray(img)\n",
        "\n",
        "    X.append(data)\n",
        "    y.append(label)\n",
        "\n",
        "    if i%700==0:\n",
        "      print(cat,\" : \",f)\n",
        "\n",
        "X=np.array(X)\n",
        "y=np.array(y)\n",
        "\n",
        "X_train,X_test,y_train,y_test=train_test_split(X,y)\n",
        "xy=(X_train, X_test,y_train,y_test)\n",
        "np.save(\"/content/drive/MyDrive/2023finalproject/data.npy\",xy)\n",
        "\n",
        "print(\"ok\",len(y))\n",
        "\n",
        "import os, glob, numpy as np\n",
        "from keras.models import Sequential\n",
        "from keras.layers import Conv2D, MaxPooling2D, Dense, Flatten, Dropout\n",
        "from keras.callbacks import EarlyStopping, ModelCheckpoint\n",
        "import matplotlib.pyplot as plt\n",
        "from keras.backend import set_session as K\n",
        "\n",
        "import tensorflow as tf\n",
        "config = tf.compat.v1.ConfigProto()\n",
        "config.gpu_options.allow_growth = True\n",
        "session = tf.compat.v1.Session(config=config)\n",
        "#버전이상으로 변경\n",
        "X_train, X_test, y_train, y_test = np.load('/content/drive/MyDrive/2023finalproject/data.npy',allow_pickle=True)\n",
        "print(X_train.shape)\n",
        "print(X_train.shape[0])\n",
        "print(X_test.shape)\n",
        "print(X_test.shape[0])\n",
        "\n",
        "categories = [\"person\",\"hand\",\"trash\"]\n",
        "nb_classes = len(categories)\n",
        "\n",
        "#일반화\n",
        "X_train = X_train.astype(float) / 255\n",
        "X_test = X_test.astype(float) / 255\n",
        "\n",
        "with tf.device('/device:GPU:0'):\n",
        "\n",
        "    model = Sequential()\n",
        "    model.add(Conv2D(32, (3,3), padding=\"same\", input_shape=X_train.shape[1:], activation='relu'))\n",
        "    model.add(MaxPooling2D(pool_size=(2,2)))\n",
        "    model.add(Dropout(0.25))\n",
        "\n",
        "    model = Sequential()\n",
        "    model.add(Conv2D(32, (3,3), padding=\"same\", input_shape=X_train.shape[1:], activation='relu'))\n",
        "    model.add(MaxPooling2D(pool_size=(2,2)))\n",
        "    model.add(Dropout(0.25))\n",
        "\n",
        "    model.add(Conv2D(64, (3,3), padding=\"same\", activation='relu'))\n",
        "    model.add(MaxPooling2D(pool_size=(2,2)))\n",
        "    model.add(Dropout(0.25))\n",
        "    #chatgpt에 기반한 추가 사항\n",
        "    model.add(Conv2D(64, (3,3), padding=\"same\", activation='relu'))\n",
        "    model.add(MaxPooling2D(pool_size=(2,2)))\n",
        "    model.add(Dropout(0.25))\n",
        "\n",
        "    model.add(Flatten())\n",
        "    model.add(Dense(128, activation='relu'))\n",
        "    model.add(Dropout(0.75))\n",
        "    model.add(Dense(nb_classes, activation='softmax'))\n",
        "   # adam=tf.keras.optimizers.Adam(lr=0.001,beta_1=0.9, beta_2=0.999, epsilon=None, decay=0.0, amsgrad=False)\n",
        "    model.compile(loss='categorical_crossentropy', optimizer='adam', metrics=['accuracy'])\n",
        "    model_dir = './model'\n",
        "\n",
        "    if not os.path.exists(model_dir):\n",
        "        os.mkdir(model_dir)\n",
        "\n",
        "    model_path = model_dir + '/multi_img_classification.model'\n",
        "    checkpoint = ModelCheckpoint(filepath=model_path , monitor='val_loss', verbose=1, save_best_only=True)\n",
        "    early_stopping = EarlyStopping(monitor='val_loss', patience=6)\n",
        "\n",
        "model.summary()\n",
        "\n",
        "history = model.fit(X_train, y_train, batch_size=32, epochs=25, validation_data=(X_test, y_test), callbacks=[checkpoint, early_stopping])\n",
        "\n",
        "#1차 인공지능정확도\n",
        "print(\"정확도 : %.4f\" % (model.evaluate(X_test, y_test)[1]))\n",
        "\n",
        "y_vloss = history.history['val_loss']\n",
        "y_loss = history.history['loss']\n",
        "\n",
        "x_len = np.arange(len(y_loss))\n",
        "\n",
        "plt.plot(x_len, y_vloss, marker='.', c='red', label='val_set_loss')\n",
        "plt.plot(x_len, y_loss, marker='.', c='blue', label='train_set_oss')\n",
        "plt.legend()\n",
        "plt.xlabel('epochs')\n",
        "plt.ylabel('loss')\n",
        "plt.grid()\n",
        "plt.show()\n",
        "\n",
        "model.save('/content/drive/MyDrive/2023finalproject/fai.h5')"
      ]
    },
    {
      "cell_type": "code",
      "source": [
        "from keras.models import load_model\n",
        "import cv2\n",
        "import numpy as np\n",
        "\n",
        "# 저장된 모델 불러오기\n",
        "model = load_model('/content/drive/MyDrive/2023finalproject/fai.h5')\n",
        "\n",
        "# 새로운 이미지 불러오기\n",
        "new_image = cv2.imread(\"/content/drive/MyDrive/2023finalproject/testimage.jpg\")\n",
        "\n",
        "category_mapping = {0: \"person\", 1: \"hand\", 2: \"trash\"}\n",
        "\n",
        "# 이미지가 성공적으로 불러와졌는지 확인\n",
        "if new_image is None:\n",
        "    print(\"이미지 불러오기 실패\")\n",
        "else:\n",
        "    image_w = 64\n",
        "    image_h = 64\n",
        "\n",
        "    # 이미지 크기 조정\n",
        "    new_image = cv2.resize(new_image, (image_w, image_h))\n",
        "\n",
        "    # 이미지 전처리\n",
        "    new_image = new_image.astype(float) / 255\n",
        "\n",
        "    # 예측 수행\n",
        "    prediction = model.predict(np.array([new_image]))\n",
        "    predicted_class = np.argmax(prediction)\n",
        "\n",
        "    # 예측 결과 출력\n",
        "    if predicted_class == 0:\n",
        "        print(\"예측된 클래스: person\")\n",
        "    elif predicted_class == 1:\n",
        "        print(\"예측된 클래스: hand\")\n",
        "    elif predicted_class == 2:\n",
        "        print(\"예측된 클래스: trash\")\n"
      ],
      "metadata": {
        "colab": {
          "base_uri": "https://localhost:8080/"
        },
        "id": "qbLAlJSUTnhi",
        "outputId": "f8b2f548-bb51-435e-d880-e5f9700a5b0c"
      },
      "execution_count": null,
      "outputs": [
        {
          "output_type": "stream",
          "name": "stdout",
          "text": [
            "1/1 [==============================] - 0s 90ms/step\n",
            "예측된 클래스: person\n"
          ]
        }
      ]
    }
  ]
}