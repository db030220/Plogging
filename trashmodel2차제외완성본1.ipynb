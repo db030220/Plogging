{
  "nbformat": 4,
  "nbformat_minor": 0,
  "metadata": {
    "colab": {
      "provenance": [],
      "mount_file_id": "https://github.com/db030220/Plogging/blob/main/trashmodel%EC%99%84%EC%84%B12.ipynb",
      "authorship_tag": "ABX9TyMvSGD5c8gpAQjiIlUMx8pU",
      "include_colab_link": true
    },
    "kernelspec": {
      "name": "python3",
      "display_name": "Python 3"
    },
    "language_info": {
      "name": "python"
    }
  },
  "cells": [
    {
      "cell_type": "markdown",
      "metadata": {
        "id": "view-in-github",
        "colab_type": "text"
      },
      "source": [
        "<a href=\"https://colab.research.google.com/github/db030220/Plogging/blob/main/trashmodel2%EC%B0%A8%EC%A0%9C%EC%99%B8%EC%99%84%EC%84%B1%EB%B3%B81.ipynb\" target=\"_parent\"><img src=\"https://colab.research.google.com/assets/colab-badge.svg\" alt=\"Open In Colab\"/></a>"
      ]
    },
    {
      "cell_type": "code",
      "source": [
        "import cv2\n",
        "import numpy as np\n",
        "from google.colab.patches import cv2_imshow"
      ],
      "metadata": {
        "id": "5CF__aXN1JdR"
      },
      "execution_count": null,
      "outputs": []
    },
    {
      "cell_type": "code",
      "source": [
        "# import cv2\n",
        "\n",
        "# cap = cv2.VideoCapture(0)  # 웹캠에서 비디오 캡처 객체 생성\n",
        "# ret, frame = cap.read()   # 캡처된 프레임 읽기\n",
        "\n",
        "# if ret:  # 프레임이 정상적으로 읽어졌을 경우\n",
        "#     cv2.imshow('frame', frame)  # 이미지 출력\n",
        "#     cv2.imwrite('photo.jpg', frame)  # 이미지 저장\n",
        "#     cv2.waitKey(0)  # 키 입력 대기\n",
        "#     cap.release()  # 비디오 캡처 객체 해제\n",
        "#     cv2.destroyAllWindows()  # 모든 창 닫기\n",
        "# else:\n",
        "#     print(\"Cannot capture frame. Please check your camera.\")\n",
        "# #노트북으로 확인할것"
      ],
      "metadata": {
        "colab": {
          "base_uri": "https://localhost:8080/"
        },
        "id": "vyVX7jBf9juz",
        "outputId": "d009408e-93bf-4ae1-ef2f-9a46e654431b"
      },
      "execution_count": null,
      "outputs": [
        {
          "output_type": "stream",
          "name": "stdout",
          "text": [
            "Cannot capture frame. Please check your camera.\n"
          ]
        }
      ]
    },
    {
      "cell_type": "code",
      "source": [
        "import webbrowser\n",
        "\n",
        "# 공유 링크\n",
        "share_link = 'https://drive.google.com/file/d/1u8doVoievJDCELPn1MEly5QVp1fKw5T4/view?usp=sharing'\n",
        "\n",
        "# 파일 ID 추출\n",
        "file_id = share_link.split('/')[-2]\n",
        "\n",
        "# 웹 브라우저 열기\n",
        "webbrowser.open(f'https://drive.google.com/uc?id={file_id}&export=download')\n",
        "\n"
      ],
      "metadata": {
        "id": "4j49niHAz7RA",
        "outputId": "17d391ab-d059-4075-8d14-e97589e76717",
        "colab": {
          "base_uri": "https://localhost:8080/"
        }
      },
      "execution_count": null,
      "outputs": [
        {
          "output_type": "execute_result",
          "data": {
            "text/plain": [
              "False"
            ]
          },
          "metadata": {},
          "execution_count": 30
        }
      ]
    },
    {
      "cell_type": "code",
      "source": [
        "!pip install google-auth google-auth-oauthlib google-auth-httplib2 google-api-python-client\n"
      ],
      "metadata": {
        "id": "UeJ5GLa77L6U",
        "outputId": "76af4b89-35f8-4bcb-d054-db672b953df9",
        "colab": {
          "base_uri": "https://localhost:8080/"
        }
      },
      "execution_count": null,
      "outputs": [
        {
          "output_type": "stream",
          "name": "stdout",
          "text": [
            "Looking in indexes: https://pypi.org/simple, https://us-python.pkg.dev/colab-wheels/public/simple/\n",
            "Requirement already satisfied: google-auth in /usr/local/lib/python3.9/dist-packages (2.17.2)\n",
            "Requirement already satisfied: google-auth-oauthlib in /usr/local/lib/python3.9/dist-packages (1.0.0)\n",
            "Requirement already satisfied: google-auth-httplib2 in /usr/local/lib/python3.9/dist-packages (0.1.0)\n",
            "Requirement already satisfied: google-api-python-client in /usr/local/lib/python3.9/dist-packages (2.84.0)\n",
            "Requirement already satisfied: six>=1.9.0 in /usr/local/lib/python3.9/dist-packages (from google-auth) (1.16.0)\n",
            "Requirement already satisfied: rsa<5,>=3.1.4 in /usr/local/lib/python3.9/dist-packages (from google-auth) (4.9)\n",
            "Requirement already satisfied: pyasn1-modules>=0.2.1 in /usr/local/lib/python3.9/dist-packages (from google-auth) (0.2.8)\n",
            "Requirement already satisfied: cachetools<6.0,>=2.0.0 in /usr/local/lib/python3.9/dist-packages (from google-auth) (5.3.0)\n",
            "Requirement already satisfied: requests-oauthlib>=0.7.0 in /usr/local/lib/python3.9/dist-packages (from google-auth-oauthlib) (1.3.1)\n",
            "Requirement already satisfied: httplib2>=0.15.0 in /usr/local/lib/python3.9/dist-packages (from google-auth-httplib2) (0.21.0)\n",
            "Requirement already satisfied: google-api-core!=2.0.*,!=2.1.*,!=2.2.*,!=2.3.0,<3.0.0dev,>=1.31.5 in /usr/local/lib/python3.9/dist-packages (from google-api-python-client) (2.11.0)\n",
            "Requirement already satisfied: uritemplate<5,>=3.0.1 in /usr/local/lib/python3.9/dist-packages (from google-api-python-client) (4.1.1)\n",
            "Requirement already satisfied: requests<3.0.0dev,>=2.18.0 in /usr/local/lib/python3.9/dist-packages (from google-api-core!=2.0.*,!=2.1.*,!=2.2.*,!=2.3.0,<3.0.0dev,>=1.31.5->google-api-python-client) (2.27.1)\n",
            "Requirement already satisfied: googleapis-common-protos<2.0dev,>=1.56.2 in /usr/local/lib/python3.9/dist-packages (from google-api-core!=2.0.*,!=2.1.*,!=2.2.*,!=2.3.0,<3.0.0dev,>=1.31.5->google-api-python-client) (1.59.0)\n",
            "Requirement already satisfied: protobuf!=3.20.0,!=3.20.1,!=4.21.0,!=4.21.1,!=4.21.2,!=4.21.3,!=4.21.4,!=4.21.5,<5.0.0dev,>=3.19.5 in /usr/local/lib/python3.9/dist-packages (from google-api-core!=2.0.*,!=2.1.*,!=2.2.*,!=2.3.0,<3.0.0dev,>=1.31.5->google-api-python-client) (3.20.3)\n",
            "Requirement already satisfied: pyparsing!=3.0.0,!=3.0.1,!=3.0.2,!=3.0.3,<4,>=2.4.2 in /usr/local/lib/python3.9/dist-packages (from httplib2>=0.15.0->google-auth-httplib2) (3.0.9)\n",
            "Requirement already satisfied: pyasn1<0.5.0,>=0.4.6 in /usr/local/lib/python3.9/dist-packages (from pyasn1-modules>=0.2.1->google-auth) (0.4.8)\n",
            "Requirement already satisfied: oauthlib>=3.0.0 in /usr/local/lib/python3.9/dist-packages (from requests-oauthlib>=0.7.0->google-auth-oauthlib) (3.2.2)\n",
            "Requirement already satisfied: urllib3<1.27,>=1.21.1 in /usr/local/lib/python3.9/dist-packages (from requests<3.0.0dev,>=2.18.0->google-api-core!=2.0.*,!=2.1.*,!=2.2.*,!=2.3.0,<3.0.0dev,>=1.31.5->google-api-python-client) (1.26.15)\n",
            "Requirement already satisfied: idna<4,>=2.5 in /usr/local/lib/python3.9/dist-packages (from requests<3.0.0dev,>=2.18.0->google-api-core!=2.0.*,!=2.1.*,!=2.2.*,!=2.3.0,<3.0.0dev,>=1.31.5->google-api-python-client) (3.4)\n",
            "Requirement already satisfied: charset-normalizer~=2.0.0 in /usr/local/lib/python3.9/dist-packages (from requests<3.0.0dev,>=2.18.0->google-api-core!=2.0.*,!=2.1.*,!=2.2.*,!=2.3.0,<3.0.0dev,>=1.31.5->google-api-python-client) (2.0.12)\n",
            "Requirement already satisfied: certifi>=2017.4.17 in /usr/local/lib/python3.9/dist-packages (from requests<3.0.0dev,>=2.18.0->google-api-core!=2.0.*,!=2.1.*,!=2.2.*,!=2.3.0,<3.0.0dev,>=1.31.5->google-api-python-client) (2022.12.7)\n"
          ]
        }
      ]
    },
    {
      "cell_type": "code",
      "source": [
        "from PIL import Image\n",
        "import os, glob, numpy as np\n",
        "from sklearn.model_selection import train_test_split"
      ],
      "metadata": {
        "id": "p34KjdOVHsvK"
      },
      "execution_count": null,
      "outputs": []
    },
    {
      "cell_type": "code",
      "source": [
        "caltech_dir = \"/content/drive/MyDrive/2023finalproject/img3/\"\n",
        "categories = [\"person\",\"hand\",\"trash\"]\n",
        "nb_classes = len(categories)\n",
        "\n",
        "image_w=64\n",
        "image_h=64\n",
        "pixels = image_h* image_w*3\n",
        "X=[]\n",
        "y=[]\n",
        "\n",
        "for idx, cat in enumerate(categories):\n",
        "  label=[0 for i in range(nb_classes)]\n",
        "  label[idx] =1\n",
        "  image_dir=caltech_dir +\"/\"+cat\n",
        "  files=glob.glob(image_dir+\"/*.jpg\")\n",
        "  print(cat, \" 파일길이 : \", len(files))\n",
        "  for i, f in enumerate(files):\n",
        "    img=Image.open(f)\n",
        "    img=img.convert(\"RGB\")\n",
        "    img=img.resize((image_w,image_h))\n",
        "    data=np.asarray(img)\n",
        "\n",
        "    X.append(data)\n",
        "    y.append(label)\n",
        "\n",
        "    if i%700==0:\n",
        "      print(cat,\" : \",f)\n",
        "\n",
        "X=np.array(X)\n",
        "y=np.array(y)\n",
        "\n",
        "X_train,X_test,y_train,y_test=train_test_split(X,y)\n",
        "xy=(X_train, X_test,y_train,y_test)\n",
        "np.save(\"/content/drive/MyDrive/2023finalproject/data.npy\",xy)\n",
        "\n",
        "print(\"ok\",len(y))\n",
        "#데이터증강완료"
      ],
      "metadata": {
        "id": "KtmexKvnLZAY",
        "colab": {
          "base_uri": "https://localhost:8080/"
        },
        "outputId": "b109e10d-aadb-447a-9237-4240c09bc63d"
      },
      "execution_count": null,
      "outputs": [
        {
          "output_type": "stream",
          "name": "stdout",
          "text": [
            "person  파일길이 :  1004\n",
            "person  :  /content/drive/MyDrive/2023finalproject/img3//person/사람5.jpg\n",
            "person  :  /content/drive/MyDrive/2023finalproject/img3//person/puls_2_0_3767.jpg\n",
            "hand  파일길이 :  987\n",
            "hand  :  /content/drive/MyDrive/2023finalproject/img3//hand/손있는봉투2.jpg\n",
            "hand  :  /content/drive/MyDrive/2023finalproject/img3//hand/puls_2_0_180.jpg\n",
            "trash  파일길이 :  1003\n",
            "trash  :  /content/drive/MyDrive/2023finalproject/img3//trash/쓰레기봉투만5.jpg\n",
            "trash  :  /content/drive/MyDrive/2023finalproject/img3//trash/쓰레기봉투만603.jpg\n",
            "ok 2994\n"
          ]
        },
        {
          "output_type": "stream",
          "name": "stderr",
          "text": [
            "/usr/local/lib/python3.9/dist-packages/numpy/lib/npyio.py:518: VisibleDeprecationWarning: Creating an ndarray from ragged nested sequences (which is a list-or-tuple of lists-or-tuples-or ndarrays with different lengths or shapes) is deprecated. If you meant to do this, you must specify 'dtype=object' when creating the ndarray.\n",
            "  arr = np.asanyarray(arr)\n"
          ]
        }
      ]
    },
    {
      "cell_type": "code",
      "source": [
        "import os, glob, numpy as np\n",
        "from keras.models import Sequential\n",
        "from keras.layers import Conv2D, MaxPooling2D, Dense, Flatten, Dropout\n",
        "from keras.callbacks import EarlyStopping, ModelCheckpoint\n",
        "import matplotlib.pyplot as plt\n",
        "from keras.backend import set_session as K\n",
        "\n",
        "import tensorflow as tf\n",
        "config = tf.compat.v1.ConfigProto()\n",
        "config.gpu_options.allow_growth = True\n",
        "session = tf.compat.v1.Session(config=config)\n",
        "#버전이상으로 변경\n",
        "X_train, X_test, y_train, y_test = np.load('/content/drive/MyDrive/2023finalproject/data.npy',allow_pickle=True)\n",
        "print(X_train.shape)\n",
        "print(X_train.shape[0])\n",
        "print(X_test.shape)\n",
        "print(X_test.shape[0])"
      ],
      "metadata": {
        "id": "praOU8USLaVt",
        "colab": {
          "base_uri": "https://localhost:8080/"
        },
        "outputId": "0422325a-59ac-463c-ce3a-6352cdb7d0d0"
      },
      "execution_count": null,
      "outputs": [
        {
          "output_type": "stream",
          "name": "stdout",
          "text": [
            "(2245, 64, 64, 3)\n",
            "2245\n",
            "(749, 64, 64, 3)\n",
            "749\n"
          ]
        }
      ]
    },
    {
      "cell_type": "code",
      "source": [
        "categories = [\"person\",\"hand\",\"trash\"]\n",
        "nb_classes = len(categories)\n",
        "\n",
        "#일반화\n",
        "X_train = X_train.astype(float) / 255\n",
        "X_test = X_test.astype(float) / 255"
      ],
      "metadata": {
        "id": "TVE1D900Lcoq"
      },
      "execution_count": null,
      "outputs": []
    },
    {
      "cell_type": "code",
      "source": [
        "with tf.device('/device:GPU:0'):\n",
        "    model = Sequential()\n",
        "    model.add(Conv2D(32, (3,3), padding=\"same\", input_shape=X_train.shape[1:], activation='relu'))\n",
        "    model.add(MaxPooling2D(pool_size=(2,2)))\n",
        "    model.add(Dropout(0.25))\n",
        "    \n",
        "    model.add(Conv2D(64, (3,3), padding=\"same\", activation='relu'))\n",
        "    model.add(MaxPooling2D(pool_size=(2,2)))\n",
        "    model.add(Dropout(0.25))\n",
        "    #chatgpt에 기반한 추가 사항\n",
        "    model.add(Conv2D(128, (3,3), padding=\"same\", activation='relu'))\n",
        "    model.add(MaxPooling2D(pool_size=(2,2)))\n",
        "    model.add(Dropout(0.25))\n",
        "\n",
        "    model.add(Flatten())\n",
        "    model.add(Dense(512, activation='relu'))\n",
        "    model.add(Dropout(0.5))\n",
        "    model.add(Dense(nb_classes, activation='softmax'))\n",
        "   # adam=tf.keras.optimizers.Adam(lr=0.001,beta_1=0.9, beta_2=0.999, epsilon=None, decay=0.0, amsgrad=False)\n",
        "    model.compile(loss='categorical_crossentropy', optimizer='adam', metrics=['accuracy'])\n",
        "    model_dir = './model'\n",
        "    \n",
        "    if not os.path.exists(model_dir):\n",
        "        os.mkdir(model_dir)\n",
        "    \n",
        "    model_path = model_dir + '/multi_img_classification.model'\n",
        "    checkpoint = ModelCheckpoint(filepath=model_path , monitor='val_loss', verbose=1, save_best_only=True)\n",
        "    early_stopping = EarlyStopping(monitor='val_loss', patience=6)\n",
        "    \n",
        "    "
      ],
      "metadata": {
        "id": "6iXDiX-hLdfX"
      },
      "execution_count": null,
      "outputs": []
    },
    {
      "cell_type": "code",
      "source": [
        "model.summary()"
      ],
      "metadata": {
        "id": "Gx93tuCmLhs_",
        "colab": {
          "base_uri": "https://localhost:8080/"
        },
        "outputId": "4516dd38-f0e0-4326-a59f-1d8f56293949"
      },
      "execution_count": null,
      "outputs": [
        {
          "output_type": "stream",
          "name": "stdout",
          "text": [
            "Model: \"sequential_2\"\n",
            "_________________________________________________________________\n",
            " Layer (type)                Output Shape              Param #   \n",
            "=================================================================\n",
            " conv2d_6 (Conv2D)           (None, 64, 64, 32)        896       \n",
            "                                                                 \n",
            " max_pooling2d_6 (MaxPooling  (None, 32, 32, 32)       0         \n",
            " 2D)                                                             \n",
            "                                                                 \n",
            " dropout_8 (Dropout)         (None, 32, 32, 32)        0         \n",
            "                                                                 \n",
            " conv2d_7 (Conv2D)           (None, 32, 32, 64)        18496     \n",
            "                                                                 \n",
            " max_pooling2d_7 (MaxPooling  (None, 16, 16, 64)       0         \n",
            " 2D)                                                             \n",
            "                                                                 \n",
            " dropout_9 (Dropout)         (None, 16, 16, 64)        0         \n",
            "                                                                 \n",
            " conv2d_8 (Conv2D)           (None, 16, 16, 128)       73856     \n",
            "                                                                 \n",
            " max_pooling2d_8 (MaxPooling  (None, 8, 8, 128)        0         \n",
            " 2D)                                                             \n",
            "                                                                 \n",
            " dropout_10 (Dropout)        (None, 8, 8, 128)         0         \n",
            "                                                                 \n",
            " flatten_2 (Flatten)         (None, 8192)              0         \n",
            "                                                                 \n",
            " dense_4 (Dense)             (None, 512)               4194816   \n",
            "                                                                 \n",
            " dropout_11 (Dropout)        (None, 512)               0         \n",
            "                                                                 \n",
            " dense_5 (Dense)             (None, 3)                 1539      \n",
            "                                                                 \n",
            "=================================================================\n",
            "Total params: 4,289,603\n",
            "Trainable params: 4,289,603\n",
            "Non-trainable params: 0\n",
            "_________________________________________________________________\n"
          ]
        }
      ]
    },
    {
      "cell_type": "code",
      "source": [
        "history = model.fit(X_train, y_train, batch_size=32, epochs=25, validation_data=(X_test, y_test), callbacks=[checkpoint, early_stopping])\n"
      ],
      "metadata": {
        "id": "WXciKfrFLjm5",
        "colab": {
          "base_uri": "https://localhost:8080/"
        },
        "outputId": "669506c1-d08f-4341-d053-b4adb3af882b"
      },
      "execution_count": null,
      "outputs": [
        {
          "output_type": "stream",
          "name": "stdout",
          "text": [
            "Epoch 1/25\n",
            "71/71 [==============================] - ETA: 0s - loss: 1.1625 - accuracy: 0.3715\n",
            "Epoch 1: val_loss improved from inf to 1.04784, saving model to ./model/multi_img_classification.model\n"
          ]
        },
        {
          "output_type": "stream",
          "name": "stderr",
          "text": [
            "WARNING:absl:Found untraced functions such as _jit_compiled_convolution_op, _jit_compiled_convolution_op, _jit_compiled_convolution_op, _update_step_xla while saving (showing 4 of 4). These functions will not be directly callable after loading.\n"
          ]
        },
        {
          "output_type": "stream",
          "name": "stdout",
          "text": [
            "\b\b\b\b\b\b\b\b\b\b\b\b\b\b\b\b\b\b\b\b\b\b\b\b\b\b\b\b\b\b\b\b\b\b\b\b\b\b\b\b\b\b\b\b\b\b\b\b\b\b\b\b\b\b\b\b\b\b\b\b\b\b\b\b\b\b\b\b\b\b\b\b\b\b\b\b\b\b\b\b\b\b\r71/71 [==============================] - 34s 467ms/step - loss: 1.1625 - accuracy: 0.3715 - val_loss: 1.0478 - val_accuracy: 0.5661\n",
            "Epoch 2/25\n",
            "71/71 [==============================] - ETA: 0s - loss: 0.9393 - accuracy: 0.5630\n",
            "Epoch 2: val_loss improved from 1.04784 to 0.90307, saving model to ./model/multi_img_classification.model\n"
          ]
        },
        {
          "output_type": "stream",
          "name": "stderr",
          "text": [
            "WARNING:absl:Found untraced functions such as _jit_compiled_convolution_op, _jit_compiled_convolution_op, _jit_compiled_convolution_op, _update_step_xla while saving (showing 4 of 4). These functions will not be directly callable after loading.\n"
          ]
        },
        {
          "output_type": "stream",
          "name": "stdout",
          "text": [
            "\b\b\b\b\b\b\b\b\b\b\b\b\b\b\b\b\b\b\b\b\b\b\b\b\b\b\b\b\b\b\b\b\b\b\b\b\b\b\b\b\b\b\b\b\b\b\b\b\b\b\b\b\b\b\b\b\b\b\b\b\b\b\b\b\b\b\b\b\b\b\b\b\b\b\b\b\b\b\b\b\b\b\r71/71 [==============================] - 43s 605ms/step - loss: 0.9393 - accuracy: 0.5630 - val_loss: 0.9031 - val_accuracy: 0.5728\n",
            "Epoch 3/25\n",
            "71/71 [==============================] - ETA: 0s - loss: 0.8176 - accuracy: 0.6419\n",
            "Epoch 3: val_loss improved from 0.90307 to 0.79430, saving model to ./model/multi_img_classification.model\n"
          ]
        },
        {
          "output_type": "stream",
          "name": "stderr",
          "text": [
            "WARNING:absl:Found untraced functions such as _jit_compiled_convolution_op, _jit_compiled_convolution_op, _jit_compiled_convolution_op, _update_step_xla while saving (showing 4 of 4). These functions will not be directly callable after loading.\n"
          ]
        },
        {
          "output_type": "stream",
          "name": "stdout",
          "text": [
            "\b\b\b\b\b\b\b\b\b\b\b\b\b\b\b\b\b\b\b\b\b\b\b\b\b\b\b\b\b\b\b\b\b\b\b\b\b\b\b\b\b\b\b\b\b\b\b\b\b\b\b\b\b\b\b\b\b\b\b\b\b\b\b\b\b\b\b\b\b\b\b\b\b\b\b\b\b\b\b\b\b\b\r71/71 [==============================] - 46s 643ms/step - loss: 0.8176 - accuracy: 0.6419 - val_loss: 0.7943 - val_accuracy: 0.6689\n",
            "Epoch 4/25\n",
            "71/71 [==============================] - ETA: 0s - loss: 0.7617 - accuracy: 0.6731\n",
            "Epoch 4: val_loss improved from 0.79430 to 0.78835, saving model to ./model/multi_img_classification.model\n"
          ]
        },
        {
          "output_type": "stream",
          "name": "stderr",
          "text": [
            "WARNING:absl:Found untraced functions such as _jit_compiled_convolution_op, _jit_compiled_convolution_op, _jit_compiled_convolution_op, _update_step_xla while saving (showing 4 of 4). These functions will not be directly callable after loading.\n"
          ]
        },
        {
          "output_type": "stream",
          "name": "stdout",
          "text": [
            "\b\b\b\b\b\b\b\b\b\b\b\b\b\b\b\b\b\b\b\b\b\b\b\b\b\b\b\b\b\b\b\b\b\b\b\b\b\b\b\b\b\b\b\b\b\b\b\b\b\b\b\b\b\b\b\b\b\b\b\b\b\b\b\b\b\b\b\b\b\b\b\b\b\b\b\b\b\b\b\b\b\b\r71/71 [==============================] - 32s 449ms/step - loss: 0.7617 - accuracy: 0.6731 - val_loss: 0.7883 - val_accuracy: 0.6636\n",
            "Epoch 5/25\n",
            "71/71 [==============================] - ETA: 0s - loss: 0.7216 - accuracy: 0.6984\n",
            "Epoch 5: val_loss improved from 0.78835 to 0.69521, saving model to ./model/multi_img_classification.model\n"
          ]
        },
        {
          "output_type": "stream",
          "name": "stderr",
          "text": [
            "WARNING:absl:Found untraced functions such as _jit_compiled_convolution_op, _jit_compiled_convolution_op, _jit_compiled_convolution_op, _update_step_xla while saving (showing 4 of 4). These functions will not be directly callable after loading.\n"
          ]
        },
        {
          "output_type": "stream",
          "name": "stdout",
          "text": [
            "\b\b\b\b\b\b\b\b\b\b\b\b\b\b\b\b\b\b\b\b\b\b\b\b\b\b\b\b\b\b\b\b\b\b\b\b\b\b\b\b\b\b\b\b\b\b\b\b\b\b\b\b\b\b\b\b\b\b\b\b\b\b\b\b\b\b\b\b\b\b\b\b\b\b\b\b\b\b\b\b\b\b\r71/71 [==============================] - 34s 476ms/step - loss: 0.7216 - accuracy: 0.6984 - val_loss: 0.6952 - val_accuracy: 0.7089\n",
            "Epoch 6/25\n",
            "71/71 [==============================] - ETA: 0s - loss: 0.6724 - accuracy: 0.7149\n",
            "Epoch 6: val_loss did not improve from 0.69521\n",
            "71/71 [==============================] - 32s 454ms/step - loss: 0.6724 - accuracy: 0.7149 - val_loss: 0.7012 - val_accuracy: 0.7049\n",
            "Epoch 7/25\n",
            "71/71 [==============================] - ETA: 0s - loss: 0.6272 - accuracy: 0.7359\n",
            "Epoch 7: val_loss improved from 0.69521 to 0.61964, saving model to ./model/multi_img_classification.model\n"
          ]
        },
        {
          "output_type": "stream",
          "name": "stderr",
          "text": [
            "WARNING:absl:Found untraced functions such as _jit_compiled_convolution_op, _jit_compiled_convolution_op, _jit_compiled_convolution_op, _update_step_xla while saving (showing 4 of 4). These functions will not be directly callable after loading.\n"
          ]
        },
        {
          "output_type": "stream",
          "name": "stdout",
          "text": [
            "\b\b\b\b\b\b\b\b\b\b\b\b\b\b\b\b\b\b\b\b\b\b\b\b\b\b\b\b\b\b\b\b\b\b\b\b\b\b\b\b\b\b\b\b\b\b\b\b\b\b\b\b\b\b\b\b\b\b\b\b\b\b\b\b\b\b\b\b\b\b\b\b\b\b\b\b\b\b\b\b\b\b\r71/71 [==============================] - 32s 454ms/step - loss: 0.6272 - accuracy: 0.7359 - val_loss: 0.6196 - val_accuracy: 0.7610\n",
            "Epoch 8/25\n",
            "71/71 [==============================] - ETA: 0s - loss: 0.5774 - accuracy: 0.7635\n",
            "Epoch 8: val_loss did not improve from 0.61964\n",
            "71/71 [==============================] - 32s 446ms/step - loss: 0.5774 - accuracy: 0.7635 - val_loss: 0.6201 - val_accuracy: 0.7583\n",
            "Epoch 9/25\n",
            "71/71 [==============================] - ETA: 0s - loss: 0.5250 - accuracy: 0.7840\n",
            "Epoch 9: val_loss improved from 0.61964 to 0.58446, saving model to ./model/multi_img_classification.model\n"
          ]
        },
        {
          "output_type": "stream",
          "name": "stderr",
          "text": [
            "WARNING:absl:Found untraced functions such as _jit_compiled_convolution_op, _jit_compiled_convolution_op, _jit_compiled_convolution_op, _update_step_xla while saving (showing 4 of 4). These functions will not be directly callable after loading.\n"
          ]
        },
        {
          "output_type": "stream",
          "name": "stdout",
          "text": [
            "\b\b\b\b\b\b\b\b\b\b\b\b\b\b\b\b\b\b\b\b\b\b\b\b\b\b\b\b\b\b\b\b\b\b\b\b\b\b\b\b\b\b\b\b\b\b\b\b\b\b\b\b\b\b\b\b\b\b\b\b\b\b\b\b\b\b\b\b\b\b\b\b\b\b\b\b\b\b\b\b\b\b\r71/71 [==============================] - 32s 449ms/step - loss: 0.5250 - accuracy: 0.7840 - val_loss: 0.5845 - val_accuracy: 0.7543\n",
            "Epoch 10/25\n",
            "71/71 [==============================] - ETA: 0s - loss: 0.4847 - accuracy: 0.8036\n",
            "Epoch 10: val_loss improved from 0.58446 to 0.57089, saving model to ./model/multi_img_classification.model\n"
          ]
        },
        {
          "output_type": "stream",
          "name": "stderr",
          "text": [
            "WARNING:absl:Found untraced functions such as _jit_compiled_convolution_op, _jit_compiled_convolution_op, _jit_compiled_convolution_op, _update_step_xla while saving (showing 4 of 4). These functions will not be directly callable after loading.\n"
          ]
        },
        {
          "output_type": "stream",
          "name": "stdout",
          "text": [
            "\b\b\b\b\b\b\b\b\b\b\b\b\b\b\b\b\b\b\b\b\b\b\b\b\b\b\b\b\b\b\b\b\b\b\b\b\b\b\b\b\b\b\b\b\b\b\b\b\b\b\b\b\b\b\b\b\b\b\b\b\b\b\b\b\b\b\b\b\b\b\b\b\b\b\b\b\b\b\b\b\b\b\r71/71 [==============================] - 33s 463ms/step - loss: 0.4847 - accuracy: 0.8036 - val_loss: 0.5709 - val_accuracy: 0.7770\n",
            "Epoch 11/25\n",
            "71/71 [==============================] - ETA: 0s - loss: 0.4640 - accuracy: 0.8067\n",
            "Epoch 11: val_loss improved from 0.57089 to 0.57037, saving model to ./model/multi_img_classification.model\n"
          ]
        },
        {
          "output_type": "stream",
          "name": "stderr",
          "text": [
            "WARNING:absl:Found untraced functions such as _jit_compiled_convolution_op, _jit_compiled_convolution_op, _jit_compiled_convolution_op, _update_step_xla while saving (showing 4 of 4). These functions will not be directly callable after loading.\n"
          ]
        },
        {
          "output_type": "stream",
          "name": "stdout",
          "text": [
            "\b\b\b\b\b\b\b\b\b\b\b\b\b\b\b\b\b\b\b\b\b\b\b\b\b\b\b\b\b\b\b\b\b\b\b\b\b\b\b\b\b\b\b\b\b\b\b\b\b\b\b\b\b\b\b\b\b\b\b\b\b\b\b\b\b\b\b\b\b\b\b\b\b\b\b\b\b\b\b\b\b\b\r71/71 [==============================] - 33s 473ms/step - loss: 0.4640 - accuracy: 0.8067 - val_loss: 0.5704 - val_accuracy: 0.7610\n",
            "Epoch 12/25\n",
            "71/71 [==============================] - ETA: 0s - loss: 0.4093 - accuracy: 0.8334\n",
            "Epoch 12: val_loss did not improve from 0.57037\n",
            "71/71 [==============================] - 31s 431ms/step - loss: 0.4093 - accuracy: 0.8334 - val_loss: 0.6126 - val_accuracy: 0.7610\n",
            "Epoch 13/25\n",
            "71/71 [==============================] - ETA: 0s - loss: 0.3493 - accuracy: 0.8597\n",
            "Epoch 13: val_loss improved from 0.57037 to 0.53126, saving model to ./model/multi_img_classification.model\n"
          ]
        },
        {
          "output_type": "stream",
          "name": "stderr",
          "text": [
            "WARNING:absl:Found untraced functions such as _jit_compiled_convolution_op, _jit_compiled_convolution_op, _jit_compiled_convolution_op, _update_step_xla while saving (showing 4 of 4). These functions will not be directly callable after loading.\n"
          ]
        },
        {
          "output_type": "stream",
          "name": "stdout",
          "text": [
            "\b\b\b\b\b\b\b\b\b\b\b\b\b\b\b\b\b\b\b\b\b\b\b\b\b\b\b\b\b\b\b\b\b\b\b\b\b\b\b\b\b\b\b\b\b\b\b\b\b\b\b\b\b\b\b\b\b\b\b\b\b\b\b\b\b\b\b\b\b\b\b\b\b\b\b\b\b\b\b\b\b\b\r71/71 [==============================] - 33s 459ms/step - loss: 0.3493 - accuracy: 0.8597 - val_loss: 0.5313 - val_accuracy: 0.7984\n",
            "Epoch 14/25\n",
            "71/71 [==============================] - ETA: 0s - loss: 0.3294 - accuracy: 0.8682\n",
            "Epoch 14: val_loss did not improve from 0.53126\n",
            "71/71 [==============================] - 30s 431ms/step - loss: 0.3294 - accuracy: 0.8682 - val_loss: 0.5405 - val_accuracy: 0.8064\n",
            "Epoch 15/25\n",
            "71/71 [==============================] - ETA: 0s - loss: 0.3254 - accuracy: 0.8677\n",
            "Epoch 15: val_loss did not improve from 0.53126\n",
            "71/71 [==============================] - 30s 430ms/step - loss: 0.3254 - accuracy: 0.8677 - val_loss: 0.5739 - val_accuracy: 0.7997\n",
            "Epoch 16/25\n",
            "71/71 [==============================] - ETA: 0s - loss: 0.2485 - accuracy: 0.9109\n",
            "Epoch 16: val_loss did not improve from 0.53126\n",
            "71/71 [==============================] - 31s 434ms/step - loss: 0.2485 - accuracy: 0.9109 - val_loss: 0.5471 - val_accuracy: 0.7917\n",
            "Epoch 17/25\n",
            "71/71 [==============================] - ETA: 0s - loss: 0.2131 - accuracy: 0.9194\n",
            "Epoch 17: val_loss did not improve from 0.53126\n",
            "71/71 [==============================] - 31s 440ms/step - loss: 0.2131 - accuracy: 0.9194 - val_loss: 0.5876 - val_accuracy: 0.8158\n",
            "Epoch 18/25\n",
            "71/71 [==============================] - ETA: 0s - loss: 0.1674 - accuracy: 0.9408\n",
            "Epoch 18: val_loss did not improve from 0.53126\n",
            "71/71 [==============================] - 30s 430ms/step - loss: 0.1674 - accuracy: 0.9408 - val_loss: 0.5946 - val_accuracy: 0.8091\n",
            "Epoch 19/25\n",
            "71/71 [==============================] - ETA: 0s - loss: 0.1718 - accuracy: 0.9372\n",
            "Epoch 19: val_loss did not improve from 0.53126\n",
            "71/71 [==============================] - 31s 437ms/step - loss: 0.1718 - accuracy: 0.9372 - val_loss: 0.6322 - val_accuracy: 0.8051\n"
          ]
        }
      ]
    },
    {
      "cell_type": "code",
      "execution_count": null,
      "metadata": {
        "colab": {
          "base_uri": "https://localhost:8080/",
          "height": 209
        },
        "id": "gM-F_ss6s4dd",
        "outputId": "b0c2ed46-648f-49aa-d191-b90fc0ed7af3"
      },
      "outputs": [
        {
          "output_type": "display_data",
          "data": {
            "text/plain": [
              "<PIL.Image.Image image mode=RGB size=256x192 at 0x7F059CDA06A0>"
            ],
            "image/png": "[encoded data removed]"
          },
          "metadata": {}
        }
      ],
      "source": [
        "\n",
        "yolov3w='/content/drive/MyDrive/2023finalproject/yolov3.weights'\n",
        "yolo3c='/content/drive/MyDrive/2023finalproject/yolov3.cfg'\n",
        "# Load Yolo\n",
        "net = cv2.dnn.readNet(yolov3w, yolo3c)\n",
        "classes = []\n",
        "coco='/content/drive/MyDrive/2023finalproject/coco.names'\n",
        "with open(coco, \"r\") as f:\n",
        "    classes = [line.strip() for line in f.readlines()]\n",
        "layer_names = net.getLayerNames()\n",
        "#[i[0]-1]\n",
        "output_layers = [layer_names[i-1] for i in net.getUnconnectedOutLayers()]\n",
        "colors = np.random.uniform(0, 255, size=(len(classes), 3))\n",
        "\n",
        "# room='/content/drive/MyDrive/2023finalproject/room_ser.jpg'\n",
        "# # test='/content/_Zh8kvud.jpg_large'\n",
        "image='/content/drive/MyDrive/2023finalproject/image.jpg'\n",
        "# Loading image\n",
        "# imgname='photo.jpg'\n",
        "img = cv2.imread(image)\n",
        "img = cv2.resize(img, None, fx=0.4, fy=0.4)\n",
        "height, width, channels = img.shape\n",
        "\n",
        "# Detecting objects\n",
        "blob = cv2.dnn.blobFromImage(img, 0.00392, (416, 416), (0, 0, 0), True, crop=False)\n",
        "net.setInput(blob)\n",
        "outs = net.forward(output_layers)\n",
        "\n",
        "# Showing informations on the screen\n",
        "class_ids = []\n",
        "confidences = []\n",
        "boxes = []\n",
        "for out in outs:\n",
        "    for detection in out:\n",
        "        scores = detection[5:]\n",
        "        class_id = np.argmax(scores)\n",
        "        confidence = scores[class_id]\n",
        "        #현재오류지점index 1256320 is out of bounds for axis 0 with size 27\n",
        "        if confidence > 0.5:\n",
        "            # Object detected\n",
        "            center_x = int(detection[0] * width)\n",
        "            center_y = int(detection[1] * height)\n",
        "            w = int(detection[2] * width)\n",
        "            h = int(detection[3] * height)\n",
        "            # Rectangle coordinates\n",
        "            x = int(center_x - w / 2)\n",
        "            y = int(center_y - h / 2)\n",
        "            boxes.append([x, y, w, h])\n",
        "            confidences.append(float(confidence))\n",
        "            class_ids.append(class_id)\n",
        "\n",
        "indexes = cv2.dnn.NMSBoxes(boxes, confidences, 0.5, 0.4)\n",
        "\n",
        "font = cv2.FONT_HERSHEY_PLAIN\n",
        "for i in range(len(boxes)):\n",
        "    if i in indexes:\n",
        "        x, y, w, h = boxes[i]\n",
        "        label = str(classes[class_ids[i]])\n",
        "        color = colors[i]\n",
        "        cv2.rectangle(img, (x, y), (x + w, y + h), color, 2)\n",
        "        cv2.putText(img, label, (x, y + 30), font, 3, color, 3)\n",
        "cv2_imshow(img)\n",
        "cv2.waitKey(0)\n",
        "cv2.destroyAllWindows()"
      ]
    },
    {
      "cell_type": "code",
      "source": [
        "print(\"정확도 : %.4f\" % (model.evaluate(X_test, y_test)[1]))"
      ],
      "metadata": {
        "id": "Te6J7if1LmYw",
        "colab": {
          "base_uri": "https://localhost:8080/"
        },
        "outputId": "72ddb34b-ad7e-426d-a76f-4cc6ba6e8927"
      },
      "execution_count": null,
      "outputs": [
        {
          "output_type": "stream",
          "name": "stdout",
          "text": [
            "24/24 [==============================] - 2s 82ms/step - loss: 0.6322 - accuracy: 0.8051\n",
            "정확도 : 0.8051\n"
          ]
        }
      ]
    },
    {
      "cell_type": "code",
      "source": [
        "y_vloss = history.history['val_loss']\n",
        "y_loss = history.history['loss']\n",
        "\n",
        "x_len = np.arange(len(y_loss))\n",
        "\n",
        "plt.plot(x_len, y_vloss, marker='.', c='red', label='val_set_loss')\n",
        "plt.plot(x_len, y_loss, marker='.', c='blue', label='train_set_oss')\n",
        "plt.legend()\n",
        "plt.xlabel('epochs')\n",
        "plt.ylabel('loss')\n",
        "plt.grid()\n",
        "plt.show()"
      ],
      "metadata": {
        "id": "AF_hO1SALnD6",
        "colab": {
          "base_uri": "https://localhost:8080/",
          "height": 451
        },
        "outputId": "8b45310c-0898-490a-c43f-274cb275dbf7"
      },
      "execution_count": null,
      "outputs": [
        {
          "output_type": "display_data",
          "data": {
            "text/plain": [
              "<Figure size 640x480 with 1 Axes>"
            ],
            "image/png": "[encoded data removed]"
          },
          "metadata": {}
        }
      ]
    },
    {
      "cell_type": "code",
      "source": [
        "!pip install --upgrade google-cloud-vision"
      ],
      "metadata": {
        "id": "GMN4UYBjq3k4"
      },
      "execution_count": null,
      "outputs": []
    },
    {
      "cell_type": "code",
      "source": [
        "!pip install google-cloud-vision\n"
      ],
      "metadata": {
        "id": "3tAnjxpWq-3u"
      },
      "execution_count": null,
      "outputs": []
    },
    {
      "cell_type": "code",
      "source": [
        "\n",
        "import re\n",
        "\n",
        "# 추출된 텍스트를 숫자로 필터링하는 함수\n",
        "def filter_numbers(text):\n",
        "    numbers = re.findall(r'\\d+', text)  # 정규식을 사용하여 숫자 추출\n",
        "    return numbers\n",
        "     "
      ],
      "metadata": {
        "id": "La83dpXRrCd1"
      },
      "execution_count": null,
      "outputs": []
    },
    {
      "cell_type": "code",
      "source": [
        "from google.cloud import vision\n",
        "\n",
        "# 이미지 파일 경로 설정\n",
        "image_path = '/content/drive/MyDrive/2023finalproject/trash334.png'\n",
        "\n",
        "# Vision API 클라이언트 인스턴스 생성\n",
        "client = vision.ImageAnnotatorClient()\n",
        "\n",
        "# 이미지 읽어오기\n",
        "with open(image_path, 'rb') as image_file:\n",
        "    content = image_file.read()\n",
        "\n",
        "# Image 객체 생성 및 이미지 속성 설정\n",
        "image = vision.Image(content=content)\n",
        "\n",
        "from google.cloud import vision\n",
        "from google.oauth2 import service_account\n",
        "\n",
        "# 인증 정보(JSON 파일)의 경로 설정\n",
        "credentials = service_account.Credentials.from_service_account_file('....')\n"
      ],
      "metadata": {
        "id": "I9PddcywrE65"
      },
      "execution_count": null,
      "outputs": []
    },
    {
      "cell_type": "code",
      "source": [
        "# Vision API 클라이언트 인스턴스 생성\n",
        "client = vision.ImageAnnotatorClient(credentials=credentials)\n",
        "\n",
        "\n",
        "# 이미지에 대한 텍스트 감지 요청\n",
        "response = client.text_detection(image=image)\n",
        "texts = response.text_annotations\n",
        "\n",
        "extracted_numbers = []\n",
        "if texts:\n",
        "    for text in texts:\n",
        "        numbers = filter_numbers(text.description)\n",
        "        extracted_numbers.extend(numbers)\n",
        "\n",
        "def process_extracted_numbers(extracted_numbers):\n",
        "    if extracted_numbers:\n",
        "        print('Extracted Numbers:')\n",
        "        for number in extracted_numbers:\n",
        "            return str(number)\n",
        "    else:\n",
        "        print('No text found in the image.')\n",
        "\n",
        "# 함수 호출\n",
        "textfromnum=process_extracted_numbers(extracted_numbers)"
      ],
      "metadata": {
        "id": "QpWuuA7nrHIH"
      },
      "execution_count": null,
      "outputs": []
    },
    {
      "cell_type": "code",
      "source": [
        "def convert_to_list(extracted_numbers):\n",
        "    result = []\n",
        "    for number in extracted_numbers:\n",
        "        result.extend(list(str(number)))\n",
        "    return result\n"
      ],
      "metadata": {
        "id": "uvejt-WBrKVj"
      },
      "execution_count": null,
      "outputs": []
    },
    {
      "cell_type": "code",
      "source": [
        "numresult=convert_to_list(textfromnum)\n",
        "print(numresult)"
      ],
      "metadata": {
        "id": "IbbmhtibrMUD"
      },
      "execution_count": null,
      "outputs": []
    },
    {
      "cell_type": "code",
      "source": [
        "def remove_last_value(lst):\n",
        "    if lst:\n",
        "        lst = lst[:-1]\n",
        "    return lst\n",
        "\n",
        "updated_list = remove_last_value(numresult)\n",
        "print(updated_list)"
      ],
      "metadata": {
        "id": "F3zXQtQ0rOWT"
      },
      "execution_count": null,
      "outputs": []
    },
    {
      "cell_type": "code",
      "source": [
        "def convert_to_string(extracted_numbers):\n",
        "    result = \"\"\n",
        "    for number in extracted_numbers:\n",
        "        result += str(number)\n",
        "    return result\n",
        "\n",
        "string_num = convert_to_string(updated_list)\n",
        "print(int(string_num))"
      ],
      "metadata": {
        "id": "a-6aJhgDrQF9"
      },
      "execution_count": null,
      "outputs": []
    }
  ]
}