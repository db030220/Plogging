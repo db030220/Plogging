{
  "nbformat": 4,
  "nbformat_minor": 0,
  "metadata": {
    "colab": {
      "provenance": [],
      "mount_file_id": "1N1jbaYhS2XA5UopGewQ4t7OGd-LFFwU1",
      "authorship_tag": "ABX9TyOMspxYNuRU4YfD5lhXj41I",
      "include_colab_link": true
    },
    "kernelspec": {
      "name": "python3",
      "display_name": "Python 3"
    },
    "language_info": {
      "name": "python"
    }
  },
  "cells": [
    {
      "cell_type": "markdown",
      "metadata": {
        "id": "view-in-github",
        "colab_type": "text"
      },
      "source": [
        "<a href=\"https://colab.research.google.com/github/db030220/Plogging/blob/main/trashmodel%EC%99%84%EC%84%B1%EB%B3%B84.ipynb\" target=\"_parent\"><img src=\"https://colab.research.google.com/assets/colab-badge.svg\" alt=\"Open In Colab\"/></a>"
      ]
    },
    {
      "cell_type": "code",
      "source": [
        "import cv2\n",
        "import numpy as np\n",
        "from google.colab.patches import cv2_imshow"
      ],
      "metadata": {
        "id": "5CF__aXN1JdR"
      },
      "execution_count": null,
      "outputs": []
    },
    {
      "cell_type": "code",
      "source": [
        "from google.colab import drive\n",
        "drive.mount('/content/drive')"
      ],
      "metadata": {
        "id": "hvALr7oIR9mT",
        "outputId": "5ecf6f67-aa4d-4c9e-d3a3-9c1a6dca888f",
        "colab": {
          "base_uri": "https://localhost:8080/"
        }
      },
      "execution_count": null,
      "outputs": [
        {
          "output_type": "stream",
          "name": "stdout",
          "text": [
            "Mounted at /content/drive\n"
          ]
        }
      ]
    },
    {
      "cell_type": "code",
      "source": [
        "#1차 인공지능\n",
        "from PIL import Image\n",
        "import os, glob, numpy as np\n",
        "from sklearn.model_selection import train_test_split"
      ],
      "metadata": {
        "id": "p34KjdOVHsvK"
      },
      "execution_count": null,
      "outputs": []
    },
    {
      "cell_type": "code",
      "source": [
        "#이미지 가져오기\n",
        "caltech_dir = \"/content/drive/MyDrive/2023finalproject/img3/\"\n",
        "categories = [\"person\",\"hand\",\"trash\"]\n",
        "nb_classes = len(categories)\n",
        "\n",
        "image_w=64\n",
        "image_h=64\n",
        "pixels = image_h* image_w*3\n",
        "X=[]\n",
        "y=[]\n",
        "\n",
        "for idx, cat in enumerate(categories):\n",
        "  label=[0 for i in range(nb_classes)]\n",
        "  label[idx] =1\n",
        "  image_dir=caltech_dir +\"/\"+cat\n",
        "  files=glob.glob(image_dir+\"/*.jpg\")\n",
        "  print(cat, \" 파일길이 : \", len(files))\n",
        "  for i, f in enumerate(files):\n",
        "    img=Image.open(f)\n",
        "    img=img.convert(\"RGB\")\n",
        "    img=img.resize((image_w,image_h))\n",
        "    data=np.asarray(img)\n",
        "\n",
        "    X.append(data)\n",
        "    y.append(label)\n",
        "\n",
        "    if i%700==0:\n",
        "      print(cat,\" : \",f)\n",
        "\n",
        "X=np.array(X)\n",
        "y=np.array(y)\n",
        "\n",
        "X_train,X_test,y_train,y_test=train_test_split(X,y)\n",
        "xy=(X_train, X_test,y_train,y_test)\n",
        "np.save(\"/content/drive/MyDrive/2023finalproject/data.npy\",xy)\n",
        "\n",
        "print(\"ok\",len(y))"
      ],
      "metadata": {
        "id": "KtmexKvnLZAY",
        "colab": {
          "base_uri": "https://localhost:8080/"
        },
        "outputId": "b109e10d-aadb-447a-9237-4240c09bc63d"
      },
      "execution_count": null,
      "outputs": [
        {
          "output_type": "stream",
          "name": "stdout",
          "text": [
            "person  파일길이 :  1004\n",
            "person  :  /content/drive/MyDrive/2023finalproject/img3//person/사람5.jpg\n",
            "person  :  /content/drive/MyDrive/2023finalproject/img3//person/puls_2_0_3767.jpg\n",
            "hand  파일길이 :  987\n",
            "hand  :  /content/drive/MyDrive/2023finalproject/img3//hand/손있는봉투2.jpg\n",
            "hand  :  /content/drive/MyDrive/2023finalproject/img3//hand/puls_2_0_180.jpg\n",
            "trash  파일길이 :  1003\n",
            "trash  :  /content/drive/MyDrive/2023finalproject/img3//trash/쓰레기봉투만5.jpg\n",
            "trash  :  /content/drive/MyDrive/2023finalproject/img3//trash/쓰레기봉투만603.jpg\n",
            "ok 2994\n"
          ]
        },
        {
          "output_type": "stream",
          "name": "stderr",
          "text": [
            "/usr/local/lib/python3.9/dist-packages/numpy/lib/npyio.py:518: VisibleDeprecationWarning: Creating an ndarray from ragged nested sequences (which is a list-or-tuple of lists-or-tuples-or ndarrays with different lengths or shapes) is deprecated. If you meant to do this, you must specify 'dtype=object' when creating the ndarray.\n",
            "  arr = np.asanyarray(arr)\n"
          ]
        }
      ]
    },
    {
      "cell_type": "code",
      "source": [
        "import os, glob, numpy as np\n",
        "from keras.models import Sequential\n",
        "from keras.layers import Conv2D, MaxPooling2D, Dense, Flatten, Dropout\n",
        "from keras.callbacks import EarlyStopping, ModelCheckpoint\n",
        "import matplotlib.pyplot as plt\n",
        "from keras.backend import set_session as K\n",
        "\n",
        "import tensorflow as tf\n",
        "config = tf.compat.v1.ConfigProto()\n",
        "config.gpu_options.allow_growth = True\n",
        "session = tf.compat.v1.Session(config=config)\n",
        "#버전이상으로 변경\n",
        "X_train, X_test, y_train, y_test = np.load('/content/drive/MyDrive/2023finalproject/data.npy',allow_pickle=True)\n",
        "print(X_train.shape)\n",
        "print(X_train.shape[0])\n",
        "print(X_test.shape)\n",
        "print(X_test.shape[0])"
      ],
      "metadata": {
        "id": "praOU8USLaVt",
        "colab": {
          "base_uri": "https://localhost:8080/"
        },
        "outputId": "0422325a-59ac-463c-ce3a-6352cdb7d0d0"
      },
      "execution_count": null,
      "outputs": [
        {
          "output_type": "stream",
          "name": "stdout",
          "text": [
            "(2245, 64, 64, 3)\n",
            "2245\n",
            "(749, 64, 64, 3)\n",
            "749\n"
          ]
        }
      ]
    },
    {
      "cell_type": "code",
      "source": [
        "categories = [\"person\",\"hand\",\"trash\"]\n",
        "nb_classes = len(categories)\n",
        "\n",
        "#일반화\n",
        "X_train = X_train.astype(float) / 255\n",
        "X_test = X_test.astype(float) / 255"
      ],
      "metadata": {
        "id": "TVE1D900Lcoq"
      },
      "execution_count": null,
      "outputs": []
    },
    {
      "cell_type": "code",
      "source": [
        "with tf.device('/device:GPU:0'):\n",
        "    model = Sequential()\n",
        "    model.add(Conv2D(32, (3,3), padding=\"same\", input_shape=X_train.shape[1:], activation='relu'))\n",
        "    model.add(MaxPooling2D(pool_size=(2,2)))\n",
        "    model.add(Dropout(0.25))\n",
        "    \n",
        "    model.add(Conv2D(64, (3,3), padding=\"same\", activation='relu'))\n",
        "    model.add(MaxPooling2D(pool_size=(2,2)))\n",
        "    model.add(Dropout(0.25))\n",
        "    #chatgpt에 기반한 추가 사항\n",
        "    model.add(Conv2D(128, (3,3), padding=\"same\", activation='relu'))\n",
        "    model.add(MaxPooling2D(pool_size=(2,2)))\n",
        "    model.add(Dropout(0.25))\n",
        "\n",
        "    model.add(Flatten())\n",
        "    model.add(Dense(512, activation='relu'))\n",
        "    model.add(Dropout(0.5))\n",
        "    model.add(Dense(nb_classes, activation='softmax'))\n",
        "   # adam=tf.keras.optimizers.Adam(lr=0.001,beta_1=0.9, beta_2=0.999, epsilon=None, decay=0.0, amsgrad=False)\n",
        "    model.compile(loss='categorical_crossentropy', optimizer='adam', metrics=['accuracy'])\n",
        "    model_dir = './model'\n",
        "    \n",
        "    if not os.path.exists(model_dir):\n",
        "        os.mkdir(model_dir)\n",
        "    \n",
        "    model_path = model_dir + '/multi_img_classification.model'\n",
        "    checkpoint = ModelCheckpoint(filepath=model_path , monitor='val_loss', verbose=1, save_best_only=True)\n",
        "    early_stopping = EarlyStopping(monitor='val_loss', patience=6)\n",
        "    \n",
        "    "
      ],
      "metadata": {
        "id": "6iXDiX-hLdfX"
      },
      "execution_count": null,
      "outputs": []
    },
    {
      "cell_type": "code",
      "source": [
        "model.summary()"
      ],
      "metadata": {
        "id": "Gx93tuCmLhs_",
        "colab": {
          "base_uri": "https://localhost:8080/"
        },
        "outputId": "4516dd38-f0e0-4326-a59f-1d8f56293949"
      },
      "execution_count": null,
      "outputs": [
        {
          "output_type": "stream",
          "name": "stdout",
          "text": [
            "Model: \"sequential_2\"\n",
            "_________________________________________________________________\n",
            " Layer (type)                Output Shape              Param #   \n",
            "=================================================================\n",
            " conv2d_6 (Conv2D)           (None, 64, 64, 32)        896       \n",
            "                                                                 \n",
            " max_pooling2d_6 (MaxPooling  (None, 32, 32, 32)       0         \n",
            " 2D)                                                             \n",
            "                                                                 \n",
            " dropout_8 (Dropout)         (None, 32, 32, 32)        0         \n",
            "                                                                 \n",
            " conv2d_7 (Conv2D)           (None, 32, 32, 64)        18496     \n",
            "                                                                 \n",
            " max_pooling2d_7 (MaxPooling  (None, 16, 16, 64)       0         \n",
            " 2D)                                                             \n",
            "                                                                 \n",
            " dropout_9 (Dropout)         (None, 16, 16, 64)        0         \n",
            "                                                                 \n",
            " conv2d_8 (Conv2D)           (None, 16, 16, 128)       73856     \n",
            "                                                                 \n",
            " max_pooling2d_8 (MaxPooling  (None, 8, 8, 128)        0         \n",
            " 2D)                                                             \n",
            "                                                                 \n",
            " dropout_10 (Dropout)        (None, 8, 8, 128)         0         \n",
            "                                                                 \n",
            " flatten_2 (Flatten)         (None, 8192)              0         \n",
            "                                                                 \n",
            " dense_4 (Dense)             (None, 512)               4194816   \n",
            "                                                                 \n",
            " dropout_11 (Dropout)        (None, 512)               0         \n",
            "                                                                 \n",
            " dense_5 (Dense)             (None, 3)                 1539      \n",
            "                                                                 \n",
            "=================================================================\n",
            "Total params: 4,289,603\n",
            "Trainable params: 4,289,603\n",
            "Non-trainable params: 0\n",
            "_________________________________________________________________\n"
          ]
        }
      ]
    },
    {
      "cell_type": "code",
      "source": [
        "history = model.fit(X_train, y_train, batch_size=32, epochs=25, validation_data=(X_test, y_test), callbacks=[checkpoint, early_stopping])\n"
      ],
      "metadata": {
        "id": "WXciKfrFLjm5",
        "colab": {
          "base_uri": "https://localhost:8080/"
        },
        "outputId": "669506c1-d08f-4341-d053-b4adb3af882b"
      },
      "execution_count": null,
      "outputs": [
        {
          "output_type": "stream",
          "name": "stdout",
          "text": [
            "Epoch 1/25\n",
            "71/71 [==============================] - ETA: 0s - loss: 1.1625 - accuracy: 0.3715\n",
            "Epoch 1: val_loss improved from inf to 1.04784, saving model to ./model/multi_img_classification.model\n"
          ]
        },
        {
          "output_type": "stream",
          "name": "stderr",
          "text": [
            "WARNING:absl:Found untraced functions such as _jit_compiled_convolution_op, _jit_compiled_convolution_op, _jit_compiled_convolution_op, _update_step_xla while saving (showing 4 of 4). These functions will not be directly callable after loading.\n"
          ]
        },
        {
          "output_type": "stream",
          "name": "stdout",
          "text": [
            "\b\b\b\b\b\b\b\b\b\b\b\b\b\b\b\b\b\b\b\b\b\b\b\b\b\b\b\b\b\b\b\b\b\b\b\b\b\b\b\b\b\b\b\b\b\b\b\b\b\b\b\b\b\b\b\b\b\b\b\b\b\b\b\b\b\b\b\b\b\b\b\b\b\b\b\b\b\b\b\b\b\b\r71/71 [==============================] - 34s 467ms/step - loss: 1.1625 - accuracy: 0.3715 - val_loss: 1.0478 - val_accuracy: 0.5661\n",
            "Epoch 2/25\n",
            "71/71 [==============================] - ETA: 0s - loss: 0.9393 - accuracy: 0.5630\n",
            "Epoch 2: val_loss improved from 1.04784 to 0.90307, saving model to ./model/multi_img_classification.model\n"
          ]
        },
        {
          "output_type": "stream",
          "name": "stderr",
          "text": [
            "WARNING:absl:Found untraced functions such as _jit_compiled_convolution_op, _jit_compiled_convolution_op, _jit_compiled_convolution_op, _update_step_xla while saving (showing 4 of 4). These functions will not be directly callable after loading.\n"
          ]
        },
        {
          "output_type": "stream",
          "name": "stdout",
          "text": [
            "\b\b\b\b\b\b\b\b\b\b\b\b\b\b\b\b\b\b\b\b\b\b\b\b\b\b\b\b\b\b\b\b\b\b\b\b\b\b\b\b\b\b\b\b\b\b\b\b\b\b\b\b\b\b\b\b\b\b\b\b\b\b\b\b\b\b\b\b\b\b\b\b\b\b\b\b\b\b\b\b\b\b\r71/71 [==============================] - 43s 605ms/step - loss: 0.9393 - accuracy: 0.5630 - val_loss: 0.9031 - val_accuracy: 0.5728\n",
            "Epoch 3/25\n",
            "71/71 [==============================] - ETA: 0s - loss: 0.8176 - accuracy: 0.6419\n",
            "Epoch 3: val_loss improved from 0.90307 to 0.79430, saving model to ./model/multi_img_classification.model\n"
          ]
        },
        {
          "output_type": "stream",
          "name": "stderr",
          "text": [
            "WARNING:absl:Found untraced functions such as _jit_compiled_convolution_op, _jit_compiled_convolution_op, _jit_compiled_convolution_op, _update_step_xla while saving (showing 4 of 4). These functions will not be directly callable after loading.\n"
          ]
        },
        {
          "output_type": "stream",
          "name": "stdout",
          "text": [
            "\b\b\b\b\b\b\b\b\b\b\b\b\b\b\b\b\b\b\b\b\b\b\b\b\b\b\b\b\b\b\b\b\b\b\b\b\b\b\b\b\b\b\b\b\b\b\b\b\b\b\b\b\b\b\b\b\b\b\b\b\b\b\b\b\b\b\b\b\b\b\b\b\b\b\b\b\b\b\b\b\b\b\r71/71 [==============================] - 46s 643ms/step - loss: 0.8176 - accuracy: 0.6419 - val_loss: 0.7943 - val_accuracy: 0.6689\n",
            "Epoch 4/25\n",
            "71/71 [==============================] - ETA: 0s - loss: 0.7617 - accuracy: 0.6731\n",
            "Epoch 4: val_loss improved from 0.79430 to 0.78835, saving model to ./model/multi_img_classification.model\n"
          ]
        },
        {
          "output_type": "stream",
          "name": "stderr",
          "text": [
            "WARNING:absl:Found untraced functions such as _jit_compiled_convolution_op, _jit_compiled_convolution_op, _jit_compiled_convolution_op, _update_step_xla while saving (showing 4 of 4). These functions will not be directly callable after loading.\n"
          ]
        },
        {
          "output_type": "stream",
          "name": "stdout",
          "text": [
            "\b\b\b\b\b\b\b\b\b\b\b\b\b\b\b\b\b\b\b\b\b\b\b\b\b\b\b\b\b\b\b\b\b\b\b\b\b\b\b\b\b\b\b\b\b\b\b\b\b\b\b\b\b\b\b\b\b\b\b\b\b\b\b\b\b\b\b\b\b\b\b\b\b\b\b\b\b\b\b\b\b\b\r71/71 [==============================] - 32s 449ms/step - loss: 0.7617 - accuracy: 0.6731 - val_loss: 0.7883 - val_accuracy: 0.6636\n",
            "Epoch 5/25\n",
            "71/71 [==============================] - ETA: 0s - loss: 0.7216 - accuracy: 0.6984\n",
            "Epoch 5: val_loss improved from 0.78835 to 0.69521, saving model to ./model/multi_img_classification.model\n"
          ]
        },
        {
          "output_type": "stream",
          "name": "stderr",
          "text": [
            "WARNING:absl:Found untraced functions such as _jit_compiled_convolution_op, _jit_compiled_convolution_op, _jit_compiled_convolution_op, _update_step_xla while saving (showing 4 of 4). These functions will not be directly callable after loading.\n"
          ]
        },
        {
          "output_type": "stream",
          "name": "stdout",
          "text": [
            "\b\b\b\b\b\b\b\b\b\b\b\b\b\b\b\b\b\b\b\b\b\b\b\b\b\b\b\b\b\b\b\b\b\b\b\b\b\b\b\b\b\b\b\b\b\b\b\b\b\b\b\b\b\b\b\b\b\b\b\b\b\b\b\b\b\b\b\b\b\b\b\b\b\b\b\b\b\b\b\b\b\b\r71/71 [==============================] - 34s 476ms/step - loss: 0.7216 - accuracy: 0.6984 - val_loss: 0.6952 - val_accuracy: 0.7089\n",
            "Epoch 6/25\n",
            "71/71 [==============================] - ETA: 0s - loss: 0.6724 - accuracy: 0.7149\n",
            "Epoch 6: val_loss did not improve from 0.69521\n",
            "71/71 [==============================] - 32s 454ms/step - loss: 0.6724 - accuracy: 0.7149 - val_loss: 0.7012 - val_accuracy: 0.7049\n",
            "Epoch 7/25\n",
            "71/71 [==============================] - ETA: 0s - loss: 0.6272 - accuracy: 0.7359\n",
            "Epoch 7: val_loss improved from 0.69521 to 0.61964, saving model to ./model/multi_img_classification.model\n"
          ]
        },
        {
          "output_type": "stream",
          "name": "stderr",
          "text": [
            "WARNING:absl:Found untraced functions such as _jit_compiled_convolution_op, _jit_compiled_convolution_op, _jit_compiled_convolution_op, _update_step_xla while saving (showing 4 of 4). These functions will not be directly callable after loading.\n"
          ]
        },
        {
          "output_type": "stream",
          "name": "stdout",
          "text": [
            "\b\b\b\b\b\b\b\b\b\b\b\b\b\b\b\b\b\b\b\b\b\b\b\b\b\b\b\b\b\b\b\b\b\b\b\b\b\b\b\b\b\b\b\b\b\b\b\b\b\b\b\b\b\b\b\b\b\b\b\b\b\b\b\b\b\b\b\b\b\b\b\b\b\b\b\b\b\b\b\b\b\b\r71/71 [==============================] - 32s 454ms/step - loss: 0.6272 - accuracy: 0.7359 - val_loss: 0.6196 - val_accuracy: 0.7610\n",
            "Epoch 8/25\n",
            "71/71 [==============================] - ETA: 0s - loss: 0.5774 - accuracy: 0.7635\n",
            "Epoch 8: val_loss did not improve from 0.61964\n",
            "71/71 [==============================] - 32s 446ms/step - loss: 0.5774 - accuracy: 0.7635 - val_loss: 0.6201 - val_accuracy: 0.7583\n",
            "Epoch 9/25\n",
            "71/71 [==============================] - ETA: 0s - loss: 0.5250 - accuracy: 0.7840\n",
            "Epoch 9: val_loss improved from 0.61964 to 0.58446, saving model to ./model/multi_img_classification.model\n"
          ]
        },
        {
          "output_type": "stream",
          "name": "stderr",
          "text": [
            "WARNING:absl:Found untraced functions such as _jit_compiled_convolution_op, _jit_compiled_convolution_op, _jit_compiled_convolution_op, _update_step_xla while saving (showing 4 of 4). These functions will not be directly callable after loading.\n"
          ]
        },
        {
          "output_type": "stream",
          "name": "stdout",
          "text": [
            "\b\b\b\b\b\b\b\b\b\b\b\b\b\b\b\b\b\b\b\b\b\b\b\b\b\b\b\b\b\b\b\b\b\b\b\b\b\b\b\b\b\b\b\b\b\b\b\b\b\b\b\b\b\b\b\b\b\b\b\b\b\b\b\b\b\b\b\b\b\b\b\b\b\b\b\b\b\b\b\b\b\b\r71/71 [==============================] - 32s 449ms/step - loss: 0.5250 - accuracy: 0.7840 - val_loss: 0.5845 - val_accuracy: 0.7543\n",
            "Epoch 10/25\n",
            "71/71 [==============================] - ETA: 0s - loss: 0.4847 - accuracy: 0.8036\n",
            "Epoch 10: val_loss improved from 0.58446 to 0.57089, saving model to ./model/multi_img_classification.model\n"
          ]
        },
        {
          "output_type": "stream",
          "name": "stderr",
          "text": [
            "WARNING:absl:Found untraced functions such as _jit_compiled_convolution_op, _jit_compiled_convolution_op, _jit_compiled_convolution_op, _update_step_xla while saving (showing 4 of 4). These functions will not be directly callable after loading.\n"
          ]
        },
        {
          "output_type": "stream",
          "name": "stdout",
          "text": [
            "\b\b\b\b\b\b\b\b\b\b\b\b\b\b\b\b\b\b\b\b\b\b\b\b\b\b\b\b\b\b\b\b\b\b\b\b\b\b\b\b\b\b\b\b\b\b\b\b\b\b\b\b\b\b\b\b\b\b\b\b\b\b\b\b\b\b\b\b\b\b\b\b\b\b\b\b\b\b\b\b\b\b\r71/71 [==============================] - 33s 463ms/step - loss: 0.4847 - accuracy: 0.8036 - val_loss: 0.5709 - val_accuracy: 0.7770\n",
            "Epoch 11/25\n",
            "71/71 [==============================] - ETA: 0s - loss: 0.4640 - accuracy: 0.8067\n",
            "Epoch 11: val_loss improved from 0.57089 to 0.57037, saving model to ./model/multi_img_classification.model\n"
          ]
        },
        {
          "output_type": "stream",
          "name": "stderr",
          "text": [
            "WARNING:absl:Found untraced functions such as _jit_compiled_convolution_op, _jit_compiled_convolution_op, _jit_compiled_convolution_op, _update_step_xla while saving (showing 4 of 4). These functions will not be directly callable after loading.\n"
          ]
        },
        {
          "output_type": "stream",
          "name": "stdout",
          "text": [
            "\b\b\b\b\b\b\b\b\b\b\b\b\b\b\b\b\b\b\b\b\b\b\b\b\b\b\b\b\b\b\b\b\b\b\b\b\b\b\b\b\b\b\b\b\b\b\b\b\b\b\b\b\b\b\b\b\b\b\b\b\b\b\b\b\b\b\b\b\b\b\b\b\b\b\b\b\b\b\b\b\b\b\r71/71 [==============================] - 33s 473ms/step - loss: 0.4640 - accuracy: 0.8067 - val_loss: 0.5704 - val_accuracy: 0.7610\n",
            "Epoch 12/25\n",
            "71/71 [==============================] - ETA: 0s - loss: 0.4093 - accuracy: 0.8334\n",
            "Epoch 12: val_loss did not improve from 0.57037\n",
            "71/71 [==============================] - 31s 431ms/step - loss: 0.4093 - accuracy: 0.8334 - val_loss: 0.6126 - val_accuracy: 0.7610\n",
            "Epoch 13/25\n",
            "71/71 [==============================] - ETA: 0s - loss: 0.3493 - accuracy: 0.8597\n",
            "Epoch 13: val_loss improved from 0.57037 to 0.53126, saving model to ./model/multi_img_classification.model\n"
          ]
        },
        {
          "output_type": "stream",
          "name": "stderr",
          "text": [
            "WARNING:absl:Found untraced functions such as _jit_compiled_convolution_op, _jit_compiled_convolution_op, _jit_compiled_convolution_op, _update_step_xla while saving (showing 4 of 4). These functions will not be directly callable after loading.\n"
          ]
        },
        {
          "output_type": "stream",
          "name": "stdout",
          "text": [
            "\b\b\b\b\b\b\b\b\b\b\b\b\b\b\b\b\b\b\b\b\b\b\b\b\b\b\b\b\b\b\b\b\b\b\b\b\b\b\b\b\b\b\b\b\b\b\b\b\b\b\b\b\b\b\b\b\b\b\b\b\b\b\b\b\b\b\b\b\b\b\b\b\b\b\b\b\b\b\b\b\b\b\r71/71 [==============================] - 33s 459ms/step - loss: 0.3493 - accuracy: 0.8597 - val_loss: 0.5313 - val_accuracy: 0.7984\n",
            "Epoch 14/25\n",
            "71/71 [==============================] - ETA: 0s - loss: 0.3294 - accuracy: 0.8682\n",
            "Epoch 14: val_loss did not improve from 0.53126\n",
            "71/71 [==============================] - 30s 431ms/step - loss: 0.3294 - accuracy: 0.8682 - val_loss: 0.5405 - val_accuracy: 0.8064\n",
            "Epoch 15/25\n",
            "71/71 [==============================] - ETA: 0s - loss: 0.3254 - accuracy: 0.8677\n",
            "Epoch 15: val_loss did not improve from 0.53126\n",
            "71/71 [==============================] - 30s 430ms/step - loss: 0.3254 - accuracy: 0.8677 - val_loss: 0.5739 - val_accuracy: 0.7997\n",
            "Epoch 16/25\n",
            "71/71 [==============================] - ETA: 0s - loss: 0.2485 - accuracy: 0.9109\n",
            "Epoch 16: val_loss did not improve from 0.53126\n",
            "71/71 [==============================] - 31s 434ms/step - loss: 0.2485 - accuracy: 0.9109 - val_loss: 0.5471 - val_accuracy: 0.7917\n",
            "Epoch 17/25\n",
            "71/71 [==============================] - ETA: 0s - loss: 0.2131 - accuracy: 0.9194\n",
            "Epoch 17: val_loss did not improve from 0.53126\n",
            "71/71 [==============================] - 31s 440ms/step - loss: 0.2131 - accuracy: 0.9194 - val_loss: 0.5876 - val_accuracy: 0.8158\n",
            "Epoch 18/25\n",
            "71/71 [==============================] - ETA: 0s - loss: 0.1674 - accuracy: 0.9408\n",
            "Epoch 18: val_loss did not improve from 0.53126\n",
            "71/71 [==============================] - 30s 430ms/step - loss: 0.1674 - accuracy: 0.9408 - val_loss: 0.5946 - val_accuracy: 0.8091\n",
            "Epoch 19/25\n",
            "71/71 [==============================] - ETA: 0s - loss: 0.1718 - accuracy: 0.9372\n",
            "Epoch 19: val_loss did not improve from 0.53126\n",
            "71/71 [==============================] - 31s 437ms/step - loss: 0.1718 - accuracy: 0.9372 - val_loss: 0.6322 - val_accuracy: 0.8051\n"
          ]
        }
      ]
    },
    {
      "cell_type": "code",
      "source": [
        "#1차 인공지능정확도\n",
        "print(\"정확도 : %.4f\" % (model.evaluate(X_test, y_test)[1]))"
      ],
      "metadata": {
        "id": "Te6J7if1LmYw",
        "colab": {
          "base_uri": "https://localhost:8080/"
        },
        "outputId": "72ddb34b-ad7e-426d-a76f-4cc6ba6e8927"
      },
      "execution_count": null,
      "outputs": [
        {
          "output_type": "stream",
          "name": "stdout",
          "text": [
            "24/24 [==============================] - 2s 82ms/step - loss: 0.6322 - accuracy: 0.8051\n",
            "정확도 : 0.8051\n"
          ]
        }
      ]
    },
    {
      "cell_type": "code",
      "source": [
        "y_vloss = history.history['val_loss']\n",
        "y_loss = history.history['loss']\n",
        "\n",
        "x_len = np.arange(len(y_loss))\n",
        "\n",
        "plt.plot(x_len, y_vloss, marker='.', c='red', label='val_set_loss')\n",
        "plt.plot(x_len, y_loss, marker='.', c='blue', label='train_set_oss')\n",
        "plt.legend()\n",
        "plt.xlabel('epochs')\n",
        "plt.ylabel('loss')\n",
        "plt.grid()\n",
        "plt.show()"
      ],
      "metadata": {
        "id": "AF_hO1SALnD6",
        "colab": {
          "base_uri": "https://localhost:8080/",
          "height": 451
        },
        "outputId": "8b45310c-0898-490a-c43f-274cb275dbf7"
      },
      "execution_count": null,
      "outputs": [
        {
          "output_type": "display_data",
          "data": {
            "text/plain": [
              "<Figure size 640x480 with 1 Axes>"
            ],
            "image/png": "[encoded data removed]"
          },
          "metadata": {}
        }
      ]
    },
    {
      "cell_type": "code",
      "source": [
        "!pip install pytorch\n",
        "!pip install matplotlib\n",
        "!pip install ultralytics"
      ],
      "metadata": {
        "id": "jolEk0FXSllj",
        "outputId": "4d57d19a-9e44-478c-8f20-4479b153fe88",
        "colab": {
          "base_uri": "https://localhost:8080/"
        }
      },
      "execution_count": null,
      "outputs": [
        {
          "output_type": "stream",
          "name": "stdout",
          "text": [
            "Looking in indexes: https://pypi.org/simple, https://us-python.pkg.dev/colab-wheels/public/simple/\n",
            "Collecting pytorch\n",
            "  Using cached pytorch-1.0.2.tar.gz (689 bytes)\n",
            "  Preparing metadata (setup.py) ... \u001b[?25l\u001b[?25hdone\n",
            "Building wheels for collected packages: pytorch\n",
            "  \u001b[1;31merror\u001b[0m: \u001b[1msubprocess-exited-with-error\u001b[0m\n",
            "  \n",
            "  \u001b[31m×\u001b[0m \u001b[32mpython setup.py bdist_wheel\u001b[0m did not run successfully.\n",
            "  \u001b[31m│\u001b[0m exit code: \u001b[1;36m1\u001b[0m\n",
            "  \u001b[31m╰─>\u001b[0m See above for output.\n",
            "  \n",
            "  \u001b[1;35mnote\u001b[0m: This error originates from a subprocess, and is likely not a problem with pip.\n",
            "  Building wheel for pytorch (setup.py) ... \u001b[?25lerror\n",
            "\u001b[31m  ERROR: Failed building wheel for pytorch\u001b[0m\u001b[31m\n",
            "\u001b[0m\u001b[?25h  Running setup.py clean for pytorch\n",
            "Failed to build pytorch\n",
            "\u001b[31mERROR: Could not build wheels for pytorch, which is required to install pyproject.toml-based projects\u001b[0m\u001b[31m\n",
            "\u001b[0mLooking in indexes: https://pypi.org/simple, https://us-python.pkg.dev/colab-wheels/public/simple/\n",
            "Requirement already satisfied: matplotlib in /usr/local/lib/python3.10/dist-packages (3.7.1)\n",
            "Requirement already satisfied: contourpy>=1.0.1 in /usr/local/lib/python3.10/dist-packages (from matplotlib) (1.0.7)\n",
            "Requirement already satisfied: cycler>=0.10 in /usr/local/lib/python3.10/dist-packages (from matplotlib) (0.11.0)\n",
            "Requirement already satisfied: fonttools>=4.22.0 in /usr/local/lib/python3.10/dist-packages (from matplotlib) (4.39.3)\n",
            "Requirement already satisfied: kiwisolver>=1.0.1 in /usr/local/lib/python3.10/dist-packages (from matplotlib) (1.4.4)\n",
            "Requirement already satisfied: numpy>=1.20 in /usr/local/lib/python3.10/dist-packages (from matplotlib) (1.22.4)\n",
            "Requirement already satisfied: packaging>=20.0 in /usr/local/lib/python3.10/dist-packages (from matplotlib) (23.1)\n",
            "Requirement already satisfied: pillow>=6.2.0 in /usr/local/lib/python3.10/dist-packages (from matplotlib) (8.4.0)\n",
            "Requirement already satisfied: pyparsing>=2.3.1 in /usr/local/lib/python3.10/dist-packages (from matplotlib) (3.0.9)\n",
            "Requirement already satisfied: python-dateutil>=2.7 in /usr/local/lib/python3.10/dist-packages (from matplotlib) (2.8.2)\n",
            "Requirement already satisfied: six>=1.5 in /usr/local/lib/python3.10/dist-packages (from python-dateutil>=2.7->matplotlib) (1.16.0)\n",
            "Looking in indexes: https://pypi.org/simple, https://us-python.pkg.dev/colab-wheels/public/simple/\n",
            "Requirement already satisfied: ultralytics in /usr/local/lib/python3.10/dist-packages (8.0.112)\n",
            "Requirement already satisfied: matplotlib>=3.2.2 in /usr/local/lib/python3.10/dist-packages (from ultralytics) (3.7.1)\n",
            "Requirement already satisfied: opencv-python>=4.6.0 in /usr/local/lib/python3.10/dist-packages (from ultralytics) (4.7.0.72)\n",
            "Requirement already satisfied: Pillow>=7.1.2 in /usr/local/lib/python3.10/dist-packages (from ultralytics) (8.4.0)\n",
            "Requirement already satisfied: PyYAML>=5.3.1 in /usr/local/lib/python3.10/dist-packages (from ultralytics) (6.0)\n",
            "Requirement already satisfied: requests>=2.23.0 in /usr/local/lib/python3.10/dist-packages (from ultralytics) (2.27.1)\n",
            "Requirement already satisfied: scipy>=1.4.1 in /usr/local/lib/python3.10/dist-packages (from ultralytics) (1.10.1)\n",
            "Requirement already satisfied: torch>=1.7.0 in /usr/local/lib/python3.10/dist-packages (from ultralytics) (2.0.1+cu118)\n",
            "Requirement already satisfied: torchvision>=0.8.1 in /usr/local/lib/python3.10/dist-packages (from ultralytics) (0.15.2)\n",
            "Requirement already satisfied: tqdm>=4.64.0 in /usr/local/lib/python3.10/dist-packages (from ultralytics) (4.65.0)\n",
            "Requirement already satisfied: pandas>=1.1.4 in /usr/local/lib/python3.10/dist-packages (from ultralytics) (1.5.3)\n",
            "Requirement already satisfied: seaborn>=0.11.0 in /usr/local/lib/python3.10/dist-packages (from ultralytics) (0.12.2)\n",
            "Requirement already satisfied: psutil in /usr/local/lib/python3.10/dist-packages (from ultralytics) (5.9.5)\n",
            "Requirement already satisfied: contourpy>=1.0.1 in /usr/local/lib/python3.10/dist-packages (from matplotlib>=3.2.2->ultralytics) (1.0.7)\n",
            "Requirement already satisfied: cycler>=0.10 in /usr/local/lib/python3.10/dist-packages (from matplotlib>=3.2.2->ultralytics) (0.11.0)\n",
            "Requirement already satisfied: fonttools>=4.22.0 in /usr/local/lib/python3.10/dist-packages (from matplotlib>=3.2.2->ultralytics) (4.39.3)\n",
            "Requirement already satisfied: kiwisolver>=1.0.1 in /usr/local/lib/python3.10/dist-packages (from matplotlib>=3.2.2->ultralytics) (1.4.4)\n",
            "Requirement already satisfied: numpy>=1.20 in /usr/local/lib/python3.10/dist-packages (from matplotlib>=3.2.2->ultralytics) (1.22.4)\n",
            "Requirement already satisfied: packaging>=20.0 in /usr/local/lib/python3.10/dist-packages (from matplotlib>=3.2.2->ultralytics) (23.1)\n",
            "Requirement already satisfied: pyparsing>=2.3.1 in /usr/local/lib/python3.10/dist-packages (from matplotlib>=3.2.2->ultralytics) (3.0.9)\n",
            "Requirement already satisfied: python-dateutil>=2.7 in /usr/local/lib/python3.10/dist-packages (from matplotlib>=3.2.2->ultralytics) (2.8.2)\n",
            "Requirement already satisfied: pytz>=2020.1 in /usr/local/lib/python3.10/dist-packages (from pandas>=1.1.4->ultralytics) (2022.7.1)\n",
            "Requirement already satisfied: urllib3<1.27,>=1.21.1 in /usr/local/lib/python3.10/dist-packages (from requests>=2.23.0->ultralytics) (1.26.15)\n",
            "Requirement already satisfied: certifi>=2017.4.17 in /usr/local/lib/python3.10/dist-packages (from requests>=2.23.0->ultralytics) (2022.12.7)\n",
            "Requirement already satisfied: charset-normalizer~=2.0.0 in /usr/local/lib/python3.10/dist-packages (from requests>=2.23.0->ultralytics) (2.0.12)\n",
            "Requirement already satisfied: idna<4,>=2.5 in /usr/local/lib/python3.10/dist-packages (from requests>=2.23.0->ultralytics) (3.4)\n",
            "Requirement already satisfied: filelock in /usr/local/lib/python3.10/dist-packages (from torch>=1.7.0->ultralytics) (3.12.0)\n",
            "Requirement already satisfied: typing-extensions in /usr/local/lib/python3.10/dist-packages (from torch>=1.7.0->ultralytics) (4.5.0)\n",
            "Requirement already satisfied: sympy in /usr/local/lib/python3.10/dist-packages (from torch>=1.7.0->ultralytics) (1.11.1)\n",
            "Requirement already satisfied: networkx in /usr/local/lib/python3.10/dist-packages (from torch>=1.7.0->ultralytics) (3.1)\n",
            "Requirement already satisfied: jinja2 in /usr/local/lib/python3.10/dist-packages (from torch>=1.7.0->ultralytics) (3.1.2)\n",
            "Requirement already satisfied: triton==2.0.0 in /usr/local/lib/python3.10/dist-packages (from torch>=1.7.0->ultralytics) (2.0.0)\n",
            "Requirement already satisfied: cmake in /usr/local/lib/python3.10/dist-packages (from triton==2.0.0->torch>=1.7.0->ultralytics) (3.25.2)\n",
            "Requirement already satisfied: lit in /usr/local/lib/python3.10/dist-packages (from triton==2.0.0->torch>=1.7.0->ultralytics) (16.0.5)\n",
            "Requirement already satisfied: six>=1.5 in /usr/local/lib/python3.10/dist-packages (from python-dateutil>=2.7->matplotlib>=3.2.2->ultralytics) (1.16.0)\n",
            "Requirement already satisfied: MarkupSafe>=2.0 in /usr/local/lib/python3.10/dist-packages (from jinja2->torch>=1.7.0->ultralytics) (2.1.2)\n",
            "Requirement already satisfied: mpmath>=0.19 in /usr/local/lib/python3.10/dist-packages (from sympy->torch>=1.7.0->ultralytics) (1.3.0)\n"
          ]
        }
      ]
    },
    {
      "cell_type": "code",
      "source": [
        "import cv2\n",
        "from google.colab.patches import cv2_imshow\n",
        "\n",
        "img = cv2.imread('/content/yolov5/runs/detect/exp/test2.jpg')\n",
        "cv2_imshow(img)"
      ],
      "metadata": {
        "id": "e7PTnaVwkPzh"
      },
      "execution_count": null,
      "outputs": []
    },
    {
      "cell_type": "code",
      "source": [
        "!pip install torch torchvision numpy matplotlib Pillow"
      ],
      "metadata": {
        "colab": {
          "base_uri": "https://localhost:8080/"
        },
        "id": "G7Bpsqy71PGs",
        "outputId": "8681bed8-2f27-4830-cb64-996010fcde10"
      },
      "execution_count": null,
      "outputs": [
        {
          "output_type": "stream",
          "name": "stdout",
          "text": [
            "Looking in indexes: https://pypi.org/simple, https://us-python.pkg.dev/colab-wheels/public/simple/\n",
            "Requirement already satisfied: torch in /usr/local/lib/python3.10/dist-packages (2.0.1+cu118)\n",
            "Requirement already satisfied: torchvision in /usr/local/lib/python3.10/dist-packages (0.15.2)\n",
            "Requirement already satisfied: numpy in /usr/local/lib/python3.10/dist-packages (1.22.4)\n",
            "Requirement already satisfied: matplotlib in /usr/local/lib/python3.10/dist-packages (3.7.1)\n",
            "Requirement already satisfied: Pillow in /usr/local/lib/python3.10/dist-packages (8.4.0)\n",
            "Requirement already satisfied: filelock in /usr/local/lib/python3.10/dist-packages (from torch) (3.12.0)\n",
            "Requirement already satisfied: typing-extensions in /usr/local/lib/python3.10/dist-packages (from torch) (4.5.0)\n",
            "Requirement already satisfied: sympy in /usr/local/lib/python3.10/dist-packages (from torch) (1.11.1)\n",
            "Requirement already satisfied: networkx in /usr/local/lib/python3.10/dist-packages (from torch) (3.1)\n",
            "Requirement already satisfied: jinja2 in /usr/local/lib/python3.10/dist-packages (from torch) (3.1.2)\n",
            "Requirement already satisfied: triton==2.0.0 in /usr/local/lib/python3.10/dist-packages (from torch) (2.0.0)\n",
            "Requirement already satisfied: cmake in /usr/local/lib/python3.10/dist-packages (from triton==2.0.0->torch) (3.25.2)\n",
            "Requirement already satisfied: lit in /usr/local/lib/python3.10/dist-packages (from triton==2.0.0->torch) (16.0.5)\n",
            "Requirement already satisfied: requests in /usr/local/lib/python3.10/dist-packages (from torchvision) (2.27.1)\n",
            "Requirement already satisfied: contourpy>=1.0.1 in /usr/local/lib/python3.10/dist-packages (from matplotlib) (1.0.7)\n",
            "Requirement already satisfied: cycler>=0.10 in /usr/local/lib/python3.10/dist-packages (from matplotlib) (0.11.0)\n",
            "Requirement already satisfied: fonttools>=4.22.0 in /usr/local/lib/python3.10/dist-packages (from matplotlib) (4.39.3)\n",
            "Requirement already satisfied: kiwisolver>=1.0.1 in /usr/local/lib/python3.10/dist-packages (from matplotlib) (1.4.4)\n",
            "Requirement already satisfied: packaging>=20.0 in /usr/local/lib/python3.10/dist-packages (from matplotlib) (23.1)\n",
            "Requirement already satisfied: pyparsing>=2.3.1 in /usr/local/lib/python3.10/dist-packages (from matplotlib) (3.0.9)\n",
            "Requirement already satisfied: python-dateutil>=2.7 in /usr/local/lib/python3.10/dist-packages (from matplotlib) (2.8.2)\n",
            "Requirement already satisfied: six>=1.5 in /usr/local/lib/python3.10/dist-packages (from python-dateutil>=2.7->matplotlib) (1.16.0)\n",
            "Requirement already satisfied: MarkupSafe>=2.0 in /usr/local/lib/python3.10/dist-packages (from jinja2->torch) (2.1.2)\n",
            "Requirement already satisfied: urllib3<1.27,>=1.21.1 in /usr/local/lib/python3.10/dist-packages (from requests->torchvision) (1.26.15)\n",
            "Requirement already satisfied: certifi>=2017.4.17 in /usr/local/lib/python3.10/dist-packages (from requests->torchvision) (2022.12.7)\n",
            "Requirement already satisfied: charset-normalizer~=2.0.0 in /usr/local/lib/python3.10/dist-packages (from requests->torchvision) (2.0.12)\n",
            "Requirement already satisfied: idna<4,>=2.5 in /usr/local/lib/python3.10/dist-packages (from requests->torchvision) (3.4)\n",
            "Requirement already satisfied: mpmath>=0.19 in /usr/local/lib/python3.10/dist-packages (from sympy->torch) (1.3.0)\n"
          ]
        }
      ]
    },
    {
      "cell_type": "code",
      "source": [
        "!pip install --upgrade google-cloud-vision"
      ],
      "metadata": {
        "id": "GMN4UYBjq3k4"
      },
      "execution_count": null,
      "outputs": []
    },
    {
      "cell_type": "code",
      "source": [
        "!pip install google-cloud-vision\n"
      ],
      "metadata": {
        "id": "3tAnjxpWq-3u"
      },
      "execution_count": null,
      "outputs": []
    },
    {
      "cell_type": "code",
      "source": [
        "#3차 인공지능\n",
        "#구글 비전 api에서 따로 연결 해줘야 가능\n",
        "\n",
        "import re\n",
        "\n",
        "# 추출된 텍스트를 숫자로 필터링하는 함수\n",
        "def filter_numbers(text):\n",
        "    numbers = re.findall(r'\\d+', text)  # 정규식을 사용하여 숫자 추출\n",
        "    return numbers\n",
        "     "
      ],
      "metadata": {
        "id": "La83dpXRrCd1"
      },
      "execution_count": null,
      "outputs": []
    },
    {
      "cell_type": "code",
      "source": [
        "from google.cloud import vision\n",
        "\n",
        "# 이미지 파일 경로 설정\n",
        "image_path = '/content/drive/MyDrive/2023finalproject/trash334.png'\n",
        "\n",
        "# Vision API 클라이언트 인스턴스 생성\n",
        "client = vision.ImageAnnotatorClient()\n",
        "\n",
        "# 이미지 읽어오기\n",
        "with open(image_path, 'rb') as image_file:\n",
        "    content = image_file.read()\n",
        "\n",
        "# Image 객체 생성 및 이미지 속성 설정\n",
        "image = vision.Image(content=content)\n",
        "\n",
        "from google.cloud import vision\n",
        "from google.oauth2 import service_account\n",
        "\n",
        "# 인증 정보(JSON 파일)의 경로 설정\n",
        "credentials = service_account.Credentials.from_service_account_file('....')\n"
      ],
      "metadata": {
        "id": "I9PddcywrE65"
      },
      "execution_count": null,
      "outputs": []
    },
    {
      "cell_type": "code",
      "source": [
        "# Vision API 클라이언트 인스턴스 생성\n",
        "client = vision.ImageAnnotatorClient(credentials=credentials)\n",
        "\n",
        "\n",
        "# 이미지에 대한 텍스트 감지 요청\n",
        "response = client.text_detection(image=image)\n",
        "texts = response.text_annotations\n",
        "\n",
        "extracted_numbers = []\n",
        "if texts:\n",
        "    for text in texts:\n",
        "        numbers = filter_numbers(text.description)\n",
        "        extracted_numbers.extend(numbers)\n",
        "\n",
        "def process_extracted_numbers(extracted_numbers):\n",
        "    if extracted_numbers:\n",
        "        print('Extracted Numbers:')\n",
        "        for number in extracted_numbers:\n",
        "            return str(number)\n",
        "    else:\n",
        "        print('No text found in the image.')\n",
        "\n",
        "# 함수 호출\n",
        "textfromnum=process_extracted_numbers(extracted_numbers)"
      ],
      "metadata": {
        "id": "QpWuuA7nrHIH"
      },
      "execution_count": null,
      "outputs": []
    },
    {
      "cell_type": "code",
      "source": [
        "def convert_to_list(extracted_numbers):\n",
        "    result = []\n",
        "    for number in extracted_numbers:\n",
        "        result.extend(list(str(number)))\n",
        "    return result\n"
      ],
      "metadata": {
        "id": "uvejt-WBrKVj"
      },
      "execution_count": null,
      "outputs": []
    },
    {
      "cell_type": "code",
      "source": [
        "numresult=convert_to_list(textfromnum)\n",
        "print(numresult)"
      ],
      "metadata": {
        "id": "IbbmhtibrMUD"
      },
      "execution_count": null,
      "outputs": []
    },
    {
      "cell_type": "code",
      "source": [
        "def remove_last_value(lst):\n",
        "    if lst:\n",
        "        lst = lst[:-1]\n",
        "    return lst\n",
        "\n",
        "updated_list = remove_last_value(numresult)\n",
        "print(updated_list)"
      ],
      "metadata": {
        "id": "F3zXQtQ0rOWT"
      },
      "execution_count": null,
      "outputs": []
    },
    {
      "cell_type": "code",
      "source": [
        "def convert_to_string(extracted_numbers):\n",
        "    result = \"\"\n",
        "    for number in extracted_numbers:\n",
        "        result += str(number)\n",
        "    return result\n",
        "\n",
        "string_num = convert_to_string(updated_list)\n",
        "print(int(string_num))"
      ],
      "metadata": {
        "id": "a-6aJhgDrQF9"
      },
      "execution_count": null,
      "outputs": []
    }
  ]
}