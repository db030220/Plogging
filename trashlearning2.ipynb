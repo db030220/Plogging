{
  "nbformat": 4,
  "nbformat_minor": 0,
  "metadata": {
    "colab": {
      "provenance": [],
      "mount_file_id": "https://gist.github.com/db030220/20b7962e7218b397ce16e75afa95aa9c#file-trashlearning2-ipynb",
      "authorship_tag": "ABX9TyNpEQfAcP8S4x6kOtGIqc0Q",
      "include_colab_link": true
    },
    "kernelspec": {
      "name": "python3",
      "display_name": "Python 3"
    },
    "language_info": {
      "name": "python"
    }
  },
  "cells": [
    {
      "cell_type": "markdown",
      "metadata": {
        "id": "view-in-github",
        "colab_type": "text"
      },
      "source": [
        "<a href=\"https://colab.research.google.com/github/db030220/Plogging/blob/main/trashlearning2.ipynb\" target=\"_parent\"><img src=\"https://colab.research.google.com/assets/colab-badge.svg\" alt=\"Open In Colab\"/></a>"
      ]
    },
    {
      "cell_type": "code",
      "execution_count": 13,
      "metadata": {
        "id": "Ufn0pJRmmgA7"
      },
      "outputs": [],
      "source": [
        "from PIL import Image\n",
        "import os, glob, numpy as np\n",
        "from sklearn.model_selection import train_test_split"
      ]
    },
    {
      "cell_type": "code",
      "source": [
        "!pip install pandas"
      ],
      "metadata": {
        "colab": {
          "base_uri": "https://localhost:8080/"
        },
        "id": "WKn45lQ09KhC",
        "outputId": "b640aadf-e970-4c27-dd4a-d1dfbcb261fb"
      },
      "execution_count": 3,
      "outputs": [
        {
          "output_type": "stream",
          "name": "stdout",
          "text": [
            "Looking in indexes: https://pypi.org/simple, https://us-python.pkg.dev/colab-wheels/public/simple/\n",
            "Requirement already satisfied: pandas in /usr/local/lib/python3.9/dist-packages (1.4.4)\n",
            "Requirement already satisfied: pytz>=2020.1 in /usr/local/lib/python3.9/dist-packages (from pandas) (2022.7.1)\n",
            "Requirement already satisfied: numpy>=1.18.5 in /usr/local/lib/python3.9/dist-packages (from pandas) (1.22.4)\n",
            "Requirement already satisfied: python-dateutil>=2.8.1 in /usr/local/lib/python3.9/dist-packages (from pandas) (2.8.2)\n",
            "Requirement already satisfied: six>=1.5 in /usr/local/lib/python3.9/dist-packages (from python-dateutil>=2.8.1->pandas) (1.16.0)\n"
          ]
        }
      ]
    },
    {
      "cell_type": "code",
      "source": [
        "from keras.utils.image_utils import load_img,img_to_array,load_img\n",
        "from tensorflow.keras.preprocessing.image import ImageDataGenerator\n",
        "\n",
        "#이미지 불리기\n",
        "for i in range(1,200):\n",
        "  fname='/content/drive/MyDrive/2023finalproject/img3/hand/손있는봉투{}.jpg'.format(i)\n",
        "  file_name_freq=1\n",
        "  data_aug_gen =ImageDataGenerator(rescale=1./255,\n",
        "                                  rotation_range=15,\n",
        "                                  width_shift_range=0.1,\n",
        "                                  shear_range=0.5,\n",
        "                                  zoom_range=[0.8,2.0],\n",
        "                                  horizontal_flip=True,\n",
        "                                  vertical_flip=True,\n",
        "                                  fill_mode='nearest')\n",
        "  img=load_img(fname)\n",
        "  x=img_to_array(img)\n",
        "  x=x.reshape((1,)+x.shape)\n",
        "  i=0\n",
        "  file_name_freq+=1\n",
        "  save_to_dir=\"/content/drive/MyDrive/2023finalproject/img3/hand/\"\n",
        "  for batch in data_aug_gen.flow(x, batch_size=1, save_to_dir=save_to_dir, save_prefix='puls_'+str(file_name_freq), save_format='jpg'):\n",
        "      i+=1\n",
        "      if i>5:\n",
        "        break\n"
      ],
      "metadata": {
        "id": "lhDYf2tHdjXL"
      },
      "execution_count": null,
      "outputs": []
    },
    {
      "cell_type": "code",
      "source": [
        "caltech_dir = \"/content/drive/MyDrive/2023finalproject/img3/\"\n",
        "categories = [\"person\",\"hand\",\"trash\"]\n",
        "nb_classes = len(categories)\n",
        "\n",
        "image_w=64\n",
        "image_h=64\n",
        "pixels = image_h* image_w*3\n",
        "X=[]\n",
        "y=[]\n",
        "\n",
        "for idx, cat in enumerate(categories):\n",
        "  label=[0 for i in range(nb_classes)]\n",
        "  label[idx] =1\n",
        "  image_dir=caltech_dir +\"/\"+cat\n",
        "  files=glob.glob(image_dir+\"/*.jpg\")\n",
        "  print(cat, \" 파일길이 : \", len(files))\n",
        "  for i, f in enumerate(files):\n",
        "    img=Image.open(f)\n",
        "    img=img.convert(\"RGB\")\n",
        "    img=img.resize((image_w,image_h))\n",
        "    data=np.asarray(img)\n",
        "\n",
        "    X.append(data)\n",
        "    y.append(label)\n",
        "\n",
        "    if i%700==0:\n",
        "      print(cat,\" : \",f)\n",
        "\n",
        "X=np.array(X)\n",
        "y=np.array(y)\n",
        "\n",
        "X_train,X_test,y_train,y_test=train_test_split(X,y)\n",
        "xy=(X_train, X_test,y_train,y_test)\n",
        "np.save(\"/content/drive/MyDrive/2023finalproject/data.npy\",xy)\n",
        "\n",
        "print(\"ok\",len(y))\n",
        "#데이터증강완료"
      ],
      "metadata": {
        "id": "6Ghigp71nCTV",
        "colab": {
          "base_uri": "https://localhost:8080/"
        },
        "outputId": "7b157fdd-d885-4b09-fe6c-eaa61cef4e29"
      },
      "execution_count": 14,
      "outputs": [
        {
          "output_type": "stream",
          "name": "stdout",
          "text": [
            "person  파일길이 :  1004\n",
            "person  :  /content/drive/MyDrive/2023finalproject/img3//person/사람5.jpg\n",
            "person  :  /content/drive/MyDrive/2023finalproject/img3//person/puls_2_0_3767.jpg\n",
            "hand  파일길이 :  987\n",
            "hand  :  /content/drive/MyDrive/2023finalproject/img3//hand/손있는봉투2.jpg\n",
            "hand  :  /content/drive/MyDrive/2023finalproject/img3//hand/puls_2_0_180.jpg\n",
            "trash  파일길이 :  1003\n",
            "trash  :  /content/drive/MyDrive/2023finalproject/img3//trash/쓰레기봉투만5.jpg\n",
            "trash  :  /content/drive/MyDrive/2023finalproject/img3//trash/쓰레기봉투만603.jpg\n",
            "ok 2994\n"
          ]
        },
        {
          "output_type": "stream",
          "name": "stderr",
          "text": [
            "/usr/local/lib/python3.9/dist-packages/numpy/lib/npyio.py:518: VisibleDeprecationWarning: Creating an ndarray from ragged nested sequences (which is a list-or-tuple of lists-or-tuples-or ndarrays with different lengths or shapes) is deprecated. If you meant to do this, you must specify 'dtype=object' when creating the ndarray.\n",
            "  arr = np.asanyarray(arr)\n"
          ]
        }
      ]
    },
    {
      "cell_type": "code",
      "source": [
        "!pip install tensorflow==2.2.0"
      ],
      "metadata": {
        "colab": {
          "base_uri": "https://localhost:8080/"
        },
        "id": "q0Iyj-BQCCK7",
        "outputId": "5b1f25f9-0669-4002-d593-8fe3d9c6f8c2"
      },
      "execution_count": null,
      "outputs": [
        {
          "output_type": "stream",
          "name": "stdout",
          "text": [
            "Looking in indexes: https://pypi.org/simple, https://us-python.pkg.dev/colab-wheels/public/simple/\n",
            "\u001b[31mERROR: Could not find a version that satisfies the requirement tensorflow==2.2.0 (from versions: 2.5.0, 2.5.1, 2.5.2, 2.5.3, 2.6.0rc0, 2.6.0rc1, 2.6.0rc2, 2.6.0, 2.6.1, 2.6.2, 2.6.3, 2.6.4, 2.6.5, 2.7.0rc0, 2.7.0rc1, 2.7.0, 2.7.1, 2.7.2, 2.7.3, 2.7.4, 2.8.0rc0, 2.8.0rc1, 2.8.0, 2.8.1, 2.8.2, 2.8.3, 2.8.4, 2.9.0rc0, 2.9.0rc1, 2.9.0rc2, 2.9.0, 2.9.1, 2.9.2, 2.9.3, 2.10.0rc0, 2.10.0rc1, 2.10.0rc2, 2.10.0rc3, 2.10.0, 2.10.1, 2.11.0rc0, 2.11.0rc1, 2.11.0rc2, 2.11.0, 2.11.1, 2.12.0rc0, 2.12.0rc1, 2.12.0)\u001b[0m\u001b[31m\n",
            "\u001b[0m\u001b[31mERROR: No matching distribution found for tensorflow==2.2.0\u001b[0m\u001b[31m\n",
            "\u001b[0m"
          ]
        }
      ]
    },
    {
      "cell_type": "code",
      "source": [
        "import os, glob, numpy as np\n",
        "from keras.models import Sequential\n",
        "from keras.layers import Conv2D, MaxPooling2D, Dense, Flatten, Dropout\n",
        "from keras.callbacks import EarlyStopping, ModelCheckpoint\n",
        "import matplotlib.pyplot as plt\n",
        "from keras.backend import set_session as K\n",
        "\n",
        "import tensorflow as tf\n",
        "config = tf.compat.v1.ConfigProto()\n",
        "config.gpu_options.allow_growth = True\n",
        "session = tf.compat.v1.Session(config=config)\n",
        "#버전이상으로 변경\n",
        "X_train, X_test, y_train, y_test = np.load('/content/drive/MyDrive/2023finalproject/data.npy',allow_pickle=True)\n",
        "print(X_train.shape)\n",
        "print(X_train.shape[0])"
      ],
      "metadata": {
        "colab": {
          "base_uri": "https://localhost:8080/"
        },
        "id": "_aqQQRLGniAt",
        "outputId": "85229c2e-9000-4c87-c887-7aea4a06858b"
      },
      "execution_count": 15,
      "outputs": [
        {
          "output_type": "stream",
          "name": "stdout",
          "text": [
            "(2245, 64, 64, 3)\n",
            "2245\n"
          ]
        }
      ]
    },
    {
      "cell_type": "code",
      "source": [
        "categories = [\"person\",\"hand\",\"trash\"]\n",
        "nb_classes = len(categories)\n",
        "\n",
        "#일반화\n",
        "X_train = X_train.astype(float) / 255\n",
        "X_test = X_test.astype(float) / 255"
      ],
      "metadata": {
        "id": "_vKPT2pKlvYG"
      },
      "execution_count": 16,
      "outputs": []
    },
    {
      "cell_type": "code",
      "source": [
        "with tf.device('/device:GPU:0'):\n",
        "    model = Sequential()\n",
        "    model.add(Conv2D(32, (3,3), padding=\"same\", input_shape=X_train.shape[1:], activation='relu'))\n",
        "    model.add(MaxPooling2D(pool_size=(2,2)))\n",
        "    model.add(Dropout(0.25))\n",
        "    \n",
        "    model.add(Conv2D(64, (3,3), padding=\"same\", activation='relu'))\n",
        "    model.add(MaxPooling2D(pool_size=(2,2)))\n",
        "    model.add(Dropout(0.25))\n",
        "    \n",
        "    model.add(Flatten())\n",
        "    model.add(Dense(256, activation='relu'))\n",
        "    model.add(Dropout(0.5))\n",
        "    model.add(Dense(nb_classes, activation='softmax'))\n",
        "    model.compile(loss='categorical_crossentropy', optimizer='adam', metrics=['accuracy'])\n",
        "    model_dir = './model'\n",
        "    \n",
        "    if not os.path.exists(model_dir):\n",
        "        os.mkdir(model_dir)\n",
        "    \n",
        "    model_path = model_dir + '/multi_img_classification.model'\n",
        "    checkpoint = ModelCheckpoint(filepath=model_path , monitor='val_loss', verbose=1, save_best_only=True)\n",
        "    early_stopping = EarlyStopping(monitor='val_loss', patience=6)\n",
        "    \n",
        "    "
      ],
      "metadata": {
        "id": "VAEEWxN_l4Os"
      },
      "execution_count": 17,
      "outputs": []
    },
    {
      "cell_type": "code",
      "source": [
        "model.summary()"
      ],
      "metadata": {
        "colab": {
          "base_uri": "https://localhost:8080/"
        },
        "id": "_VUJaC4ppFcC",
        "outputId": "c64c2a22-4cff-4b54-9c42-2b331f2fcb20"
      },
      "execution_count": 18,
      "outputs": [
        {
          "output_type": "stream",
          "name": "stdout",
          "text": [
            "Model: \"sequential_1\"\n",
            "_________________________________________________________________\n",
            " Layer (type)                Output Shape              Param #   \n",
            "=================================================================\n",
            " conv2d_2 (Conv2D)           (None, 64, 64, 32)        896       \n",
            "                                                                 \n",
            " max_pooling2d_2 (MaxPooling  (None, 32, 32, 32)       0         \n",
            " 2D)                                                             \n",
            "                                                                 \n",
            " dropout_3 (Dropout)         (None, 32, 32, 32)        0         \n",
            "                                                                 \n",
            " conv2d_3 (Conv2D)           (None, 32, 32, 64)        18496     \n",
            "                                                                 \n",
            " max_pooling2d_3 (MaxPooling  (None, 16, 16, 64)       0         \n",
            " 2D)                                                             \n",
            "                                                                 \n",
            " dropout_4 (Dropout)         (None, 16, 16, 64)        0         \n",
            "                                                                 \n",
            " flatten_1 (Flatten)         (None, 16384)             0         \n",
            "                                                                 \n",
            " dense_2 (Dense)             (None, 256)               4194560   \n",
            "                                                                 \n",
            " dropout_5 (Dropout)         (None, 256)               0         \n",
            "                                                                 \n",
            " dense_3 (Dense)             (None, 3)                 771       \n",
            "                                                                 \n",
            "=================================================================\n",
            "Total params: 4,214,723\n",
            "Trainable params: 4,214,723\n",
            "Non-trainable params: 0\n",
            "_________________________________________________________________\n"
          ]
        }
      ]
    },
    {
      "cell_type": "code",
      "source": [
        "history = model.fit(X_train, y_train, batch_size=32, epochs=30, validation_data=(X_test, y_test), callbacks=[checkpoint, early_stopping])\n"
      ],
      "metadata": {
        "colab": {
          "base_uri": "https://localhost:8080/"
        },
        "id": "QT6TTOyZq68F",
        "outputId": "5310152b-5f2f-433f-b968-6946829b7394"
      },
      "execution_count": 19,
      "outputs": [
        {
          "output_type": "stream",
          "name": "stdout",
          "text": [
            "Epoch 1/30\n",
            "71/71 [==============================] - ETA: 0s - loss: 1.1344 - accuracy: 0.4209\n",
            "Epoch 1: val_loss improved from inf to 0.93868, saving model to ./model/multi_img_classification.model\n"
          ]
        },
        {
          "output_type": "stream",
          "name": "stderr",
          "text": [
            "WARNING:absl:Found untraced functions such as _jit_compiled_convolution_op, _jit_compiled_convolution_op, _update_step_xla while saving (showing 3 of 3). These functions will not be directly callable after loading.\n"
          ]
        },
        {
          "output_type": "stream",
          "name": "stdout",
          "text": [
            "\b\b\b\b\b\b\b\b\b\b\b\b\b\b\b\b\b\b\b\b\b\b\b\b\b\b\b\b\b\b\b\b\b\b\b\b\b\b\b\b\b\b\b\b\b\b\b\b\b\b\b\b\b\b\b\b\b\b\b\b\b\b\b\b\b\b\b\b\b\b\b\b\b\b\b\b\b\b\b\b\b\b\r71/71 [==============================] - 26s 355ms/step - loss: 1.1344 - accuracy: 0.4209 - val_loss: 0.9387 - val_accuracy: 0.5941\n",
            "Epoch 2/30\n",
            "71/71 [==============================] - ETA: 0s - loss: 0.8533 - accuracy: 0.6116\n",
            "Epoch 2: val_loss improved from 0.93868 to 0.82648, saving model to ./model/multi_img_classification.model\n"
          ]
        },
        {
          "output_type": "stream",
          "name": "stderr",
          "text": [
            "WARNING:absl:Found untraced functions such as _jit_compiled_convolution_op, _jit_compiled_convolution_op, _update_step_xla while saving (showing 3 of 3). These functions will not be directly callable after loading.\n"
          ]
        },
        {
          "output_type": "stream",
          "name": "stdout",
          "text": [
            "\b\b\b\b\b\b\b\b\b\b\b\b\b\b\b\b\b\b\b\b\b\b\b\b\b\b\b\b\b\b\b\b\b\b\b\b\b\b\b\b\b\b\b\b\b\b\b\b\b\b\b\b\b\b\b\b\b\b\b\b\b\b\b\b\b\b\b\b\b\b\b\b\b\b\b\b\b\b\b\b\b\b\r71/71 [==============================] - 23s 325ms/step - loss: 0.8533 - accuracy: 0.6116 - val_loss: 0.8265 - val_accuracy: 0.6235\n",
            "Epoch 3/30\n",
            "71/71 [==============================] - ETA: 0s - loss: 0.7337 - accuracy: 0.6891\n",
            "Epoch 3: val_loss improved from 0.82648 to 0.80231, saving model to ./model/multi_img_classification.model\n"
          ]
        },
        {
          "output_type": "stream",
          "name": "stderr",
          "text": [
            "WARNING:absl:Found untraced functions such as _jit_compiled_convolution_op, _jit_compiled_convolution_op, _update_step_xla while saving (showing 3 of 3). These functions will not be directly callable after loading.\n"
          ]
        },
        {
          "output_type": "stream",
          "name": "stdout",
          "text": [
            "\b\b\b\b\b\b\b\b\b\b\b\b\b\b\b\b\b\b\b\b\b\b\b\b\b\b\b\b\b\b\b\b\b\b\b\b\b\b\b\b\b\b\b\b\b\b\b\b\b\b\b\b\b\b\b\b\b\b\b\b\b\b\b\b\b\b\b\b\b\b\b\b\b\b\b\b\b\b\b\b\b\b\r71/71 [==============================] - 26s 363ms/step - loss: 0.7337 - accuracy: 0.6891 - val_loss: 0.8023 - val_accuracy: 0.6449\n",
            "Epoch 4/30\n",
            "71/71 [==============================] - ETA: 0s - loss: 0.6696 - accuracy: 0.7292\n",
            "Epoch 4: val_loss improved from 0.80231 to 0.79947, saving model to ./model/multi_img_classification.model\n"
          ]
        },
        {
          "output_type": "stream",
          "name": "stderr",
          "text": [
            "WARNING:absl:Found untraced functions such as _jit_compiled_convolution_op, _jit_compiled_convolution_op, _update_step_xla while saving (showing 3 of 3). These functions will not be directly callable after loading.\n"
          ]
        },
        {
          "output_type": "stream",
          "name": "stdout",
          "text": [
            "\b\b\b\b\b\b\b\b\b\b\b\b\b\b\b\b\b\b\b\b\b\b\b\b\b\b\b\b\b\b\b\b\b\b\b\b\b\b\b\b\b\b\b\b\b\b\b\b\b\b\b\b\b\b\b\b\b\b\b\b\b\b\b\b\b\b\b\b\b\b\b\b\b\b\b\b\b\b\b\b\b\b\r71/71 [==============================] - 26s 362ms/step - loss: 0.6696 - accuracy: 0.7292 - val_loss: 0.7995 - val_accuracy: 0.6555\n",
            "Epoch 5/30\n",
            "71/71 [==============================] - ETA: 0s - loss: 0.5928 - accuracy: 0.7599\n",
            "Epoch 5: val_loss improved from 0.79947 to 0.76199, saving model to ./model/multi_img_classification.model\n"
          ]
        },
        {
          "output_type": "stream",
          "name": "stderr",
          "text": [
            "WARNING:absl:Found untraced functions such as _jit_compiled_convolution_op, _jit_compiled_convolution_op, _update_step_xla while saving (showing 3 of 3). These functions will not be directly callable after loading.\n"
          ]
        },
        {
          "output_type": "stream",
          "name": "stdout",
          "text": [
            "\b\b\b\b\b\b\b\b\b\b\b\b\b\b\b\b\b\b\b\b\b\b\b\b\b\b\b\b\b\b\b\b\b\b\b\b\b\b\b\b\b\b\b\b\b\b\b\b\b\b\b\b\b\b\b\b\b\b\b\b\b\b\b\b\b\b\b\b\b\b\b\b\b\b\b\b\b\b\b\b\b\b\r71/71 [==============================] - 23s 320ms/step - loss: 0.5928 - accuracy: 0.7599 - val_loss: 0.7620 - val_accuracy: 0.6822\n",
            "Epoch 6/30\n",
            "71/71 [==============================] - ETA: 0s - loss: 0.4992 - accuracy: 0.8107\n",
            "Epoch 6: val_loss did not improve from 0.76199\n",
            "71/71 [==============================] - 24s 344ms/step - loss: 0.4992 - accuracy: 0.8107 - val_loss: 0.7769 - val_accuracy: 0.6809\n",
            "Epoch 7/30\n",
            "71/71 [==============================] - ETA: 0s - loss: 0.4355 - accuracy: 0.8236\n",
            "Epoch 7: val_loss did not improve from 0.76199\n",
            "71/71 [==============================] - 21s 299ms/step - loss: 0.4355 - accuracy: 0.8236 - val_loss: 0.7841 - val_accuracy: 0.6809\n",
            "Epoch 8/30\n",
            "71/71 [==============================] - ETA: 0s - loss: 0.3618 - accuracy: 0.8646\n",
            "Epoch 8: val_loss did not improve from 0.76199\n",
            "71/71 [==============================] - 23s 321ms/step - loss: 0.3618 - accuracy: 0.8646 - val_loss: 0.8310 - val_accuracy: 0.6822\n",
            "Epoch 9/30\n",
            "71/71 [==============================] - ETA: 0s - loss: 0.3210 - accuracy: 0.8735\n",
            "Epoch 9: val_loss did not improve from 0.76199\n",
            "71/71 [==============================] - 22s 314ms/step - loss: 0.3210 - accuracy: 0.8735 - val_loss: 0.8974 - val_accuracy: 0.6782\n",
            "Epoch 10/30\n",
            "71/71 [==============================] - ETA: 0s - loss: 0.2788 - accuracy: 0.8927\n",
            "Epoch 10: val_loss did not improve from 0.76199\n",
            "71/71 [==============================] - 23s 329ms/step - loss: 0.2788 - accuracy: 0.8927 - val_loss: 0.9135 - val_accuracy: 0.6943\n",
            "Epoch 11/30\n",
            "71/71 [==============================] - ETA: 0s - loss: 0.2183 - accuracy: 0.9212\n",
            "Epoch 11: val_loss did not improve from 0.76199\n",
            "71/71 [==============================] - 24s 333ms/step - loss: 0.2183 - accuracy: 0.9212 - val_loss: 0.9540 - val_accuracy: 0.6836\n"
          ]
        }
      ]
    },
    {
      "cell_type": "code",
      "source": [
        "print(\"정확도 : %.4f\" % (model.evaluate(X_test, y_test)[1]))"
      ],
      "metadata": {
        "colab": {
          "base_uri": "https://localhost:8080/"
        },
        "id": "tLdeXckWuRAg",
        "outputId": "6255e18f-9476-4bf7-fb1d-542fb2e0a6b9"
      },
      "execution_count": 20,
      "outputs": [
        {
          "output_type": "stream",
          "name": "stdout",
          "text": [
            "24/24 [==============================] - 2s 80ms/step - loss: 0.9540 - accuracy: 0.6836\n",
            "정확도 : 0.6836\n"
          ]
        }
      ]
    },
    {
      "cell_type": "code",
      "source": [
        "y_vloss = history.history['val_loss']\n",
        "y_loss = history.history['loss']\n",
        "\n",
        "x_len = np.arange(len(y_loss))\n",
        "\n",
        "plt.plot(x_len, y_vloss, marker='.', c='red', label='val_set_loss')\n",
        "plt.plot(x_len, y_loss, marker='.', c='blue', label='train_set_oss')\n",
        "plt.legend()\n",
        "plt.xlabel('epochs')\n",
        "plt.ylabel('loss')\n",
        "plt.grid()\n",
        "plt.show()"
      ],
      "metadata": {
        "colab": {
          "base_uri": "https://localhost:8080/",
          "height": 449
        },
        "id": "Kdw7TebyxYUy",
        "outputId": "70ed0129-cb8d-406b-af18-d9723148443e"
      },
      "execution_count": 21,
      "outputs": [
        {
          "output_type": "display_data",
          "data": {
            "text/plain": [
              "<Figure size 640x480 with 1 Axes>"
            ],
            "image/png": "[encoded data removed]"
          },
          "metadata": {}
        }
      ]
    },
    {
      "cell_type": "code",
      "source": [
        "!echo \"# Plogging\" >> README.md\n",
        "!git init\n",
        "!git add README.md\n",
        "!git commit -m \"first commit\"\n",
        "!git branch -M main\n",
        "!git remote add origin https://github.com/db030220/Plogging.git\n",
        "!git push -u origin main"
      ],
      "metadata": {
        "colab": {
          "base_uri": "https://localhost:8080/"
        },
        "id": "TBIGrfGNAiLr",
        "outputId": "c92051ac-0cb8-445d-fef8-7e93064d05e4"
      },
      "execution_count": 22,
      "outputs": [
        {
          "output_type": "stream",
          "name": "stdout",
          "text": [
            "Initialized empty Git repository in /content/.git/\n",
            "\n",
            "*** Please tell me who you are.\n",
            "\n",
            "Run\n",
            "\n",
            "  git config --global user.email \"you@example.com\"\n",
            "  git config --global user.name \"Your Name\"\n",
            "\n",
            "to set your account's default identity.\n",
            "Omit --global to set the identity only in this repository.\n",
            "\n",
            "fatal: unable to auto-detect email address (got 'root@e3f27ee1993a.(none)')\n",
            "error: refname refs/heads/master not found\n",
            "fatal: Branch rename failed\n",
            "error: src refspec main does not match any\n",
            "\u001b[31merror: failed to push some refs to 'https://github.com/db030220/Plogging.git'\n",
            "\u001b[m"
          ]
        }
      ]
    }
  ]
}